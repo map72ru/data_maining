{
  "nbformat": 4,
  "nbformat_minor": 0,
  "metadata": {
    "colab": {
      "name": "hw_webinar_6.ipynb",
      "provenance": [],
      "collapsed_sections": [],
      "include_colab_link": true
    },
    "kernelspec": {
      "display_name": "Python 3",
      "language": "python",
      "name": "python3"
    },
    "language_info": {
      "codemirror_mode": {
        "name": "ipython",
        "version": 3
      },
      "file_extension": ".py",
      "mimetype": "text/x-python",
      "name": "python",
      "nbconvert_exporter": "python",
      "pygments_lexer": "ipython3",
      "version": "3.8.8"
    },
    "widgets": {
      "application/vnd.jupyter.widget-state+json": {
        "657ccffa993b43a5b4b50db44b72ab29": {
          "model_module": "@jupyter-widgets/controls",
          "model_name": "HBoxModel",
          "model_module_version": "1.5.0",
          "state": {
            "_view_name": "HBoxView",
            "_dom_classes": [],
            "_model_name": "HBoxModel",
            "_view_module": "@jupyter-widgets/controls",
            "_model_module_version": "1.5.0",
            "_view_count": null,
            "_view_module_version": "1.5.0",
            "box_style": "",
            "layout": "IPY_MODEL_4066da840f4243f6833e454910f8ae33",
            "_model_module": "@jupyter-widgets/controls",
            "children": [
              "IPY_MODEL_6ec7611ff9ac4cc995429c74380f4ce1",
              "IPY_MODEL_7ef99a1fa712479091e3f491008dad6f",
              "IPY_MODEL_aee789edcf2e4e66847b56816322db91"
            ]
          }
        },
        "4066da840f4243f6833e454910f8ae33": {
          "model_module": "@jupyter-widgets/base",
          "model_name": "LayoutModel",
          "model_module_version": "1.2.0",
          "state": {
            "_view_name": "LayoutView",
            "grid_template_rows": null,
            "right": null,
            "justify_content": null,
            "_view_module": "@jupyter-widgets/base",
            "overflow": null,
            "_model_module_version": "1.2.0",
            "_view_count": null,
            "flex_flow": null,
            "width": null,
            "min_width": null,
            "border": null,
            "align_items": null,
            "bottom": null,
            "_model_module": "@jupyter-widgets/base",
            "top": null,
            "grid_column": null,
            "overflow_y": null,
            "overflow_x": null,
            "grid_auto_flow": null,
            "grid_area": null,
            "grid_template_columns": null,
            "flex": null,
            "_model_name": "LayoutModel",
            "justify_items": null,
            "grid_row": null,
            "max_height": null,
            "align_content": null,
            "visibility": null,
            "align_self": null,
            "height": null,
            "min_height": null,
            "padding": null,
            "grid_auto_rows": null,
            "grid_gap": null,
            "max_width": null,
            "order": null,
            "_view_module_version": "1.2.0",
            "grid_template_areas": null,
            "object_position": null,
            "object_fit": null,
            "grid_auto_columns": null,
            "margin": null,
            "display": null,
            "left": null
          }
        },
        "6ec7611ff9ac4cc995429c74380f4ce1": {
          "model_module": "@jupyter-widgets/controls",
          "model_name": "HTMLModel",
          "model_module_version": "1.5.0",
          "state": {
            "_view_name": "HTMLView",
            "style": "IPY_MODEL_a9a0e100a2084c4cb0c247f8b934a24d",
            "_dom_classes": [],
            "description": "",
            "_model_name": "HTMLModel",
            "placeholder": "​",
            "_view_module": "@jupyter-widgets/controls",
            "_model_module_version": "1.5.0",
            "value": "100%",
            "_view_count": null,
            "_view_module_version": "1.5.0",
            "description_tooltip": null,
            "_model_module": "@jupyter-widgets/controls",
            "layout": "IPY_MODEL_3326d807c1ef4c9a98db8477a81b0456"
          }
        },
        "7ef99a1fa712479091e3f491008dad6f": {
          "model_module": "@jupyter-widgets/controls",
          "model_name": "FloatProgressModel",
          "model_module_version": "1.5.0",
          "state": {
            "_view_name": "ProgressView",
            "style": "IPY_MODEL_cac3ed16cee141058505104325c61ad6",
            "_dom_classes": [],
            "description": "",
            "_model_name": "FloatProgressModel",
            "bar_style": "success",
            "max": 15,
            "_view_module": "@jupyter-widgets/controls",
            "_model_module_version": "1.5.0",
            "value": 15,
            "_view_count": null,
            "_view_module_version": "1.5.0",
            "orientation": "horizontal",
            "min": 0,
            "description_tooltip": null,
            "_model_module": "@jupyter-widgets/controls",
            "layout": "IPY_MODEL_c2b74b7d8aa145eca30649749629accc"
          }
        },
        "aee789edcf2e4e66847b56816322db91": {
          "model_module": "@jupyter-widgets/controls",
          "model_name": "HTMLModel",
          "model_module_version": "1.5.0",
          "state": {
            "_view_name": "HTMLView",
            "style": "IPY_MODEL_916e46a146ea4bd4938ef385499361fb",
            "_dom_classes": [],
            "description": "",
            "_model_name": "HTMLModel",
            "placeholder": "​",
            "_view_module": "@jupyter-widgets/controls",
            "_model_module_version": "1.5.0",
            "value": " 15/15 [06:33&lt;00:00, 21.88s/it]",
            "_view_count": null,
            "_view_module_version": "1.5.0",
            "description_tooltip": null,
            "_model_module": "@jupyter-widgets/controls",
            "layout": "IPY_MODEL_eff5cd1fdf1d4042a71a8ef0e659af3f"
          }
        },
        "a9a0e100a2084c4cb0c247f8b934a24d": {
          "model_module": "@jupyter-widgets/controls",
          "model_name": "DescriptionStyleModel",
          "model_module_version": "1.5.0",
          "state": {
            "_view_name": "StyleView",
            "_model_name": "DescriptionStyleModel",
            "description_width": "",
            "_view_module": "@jupyter-widgets/base",
            "_model_module_version": "1.5.0",
            "_view_count": null,
            "_view_module_version": "1.2.0",
            "_model_module": "@jupyter-widgets/controls"
          }
        },
        "3326d807c1ef4c9a98db8477a81b0456": {
          "model_module": "@jupyter-widgets/base",
          "model_name": "LayoutModel",
          "model_module_version": "1.2.0",
          "state": {
            "_view_name": "LayoutView",
            "grid_template_rows": null,
            "right": null,
            "justify_content": null,
            "_view_module": "@jupyter-widgets/base",
            "overflow": null,
            "_model_module_version": "1.2.0",
            "_view_count": null,
            "flex_flow": null,
            "width": null,
            "min_width": null,
            "border": null,
            "align_items": null,
            "bottom": null,
            "_model_module": "@jupyter-widgets/base",
            "top": null,
            "grid_column": null,
            "overflow_y": null,
            "overflow_x": null,
            "grid_auto_flow": null,
            "grid_area": null,
            "grid_template_columns": null,
            "flex": null,
            "_model_name": "LayoutModel",
            "justify_items": null,
            "grid_row": null,
            "max_height": null,
            "align_content": null,
            "visibility": null,
            "align_self": null,
            "height": null,
            "min_height": null,
            "padding": null,
            "grid_auto_rows": null,
            "grid_gap": null,
            "max_width": null,
            "order": null,
            "_view_module_version": "1.2.0",
            "grid_template_areas": null,
            "object_position": null,
            "object_fit": null,
            "grid_auto_columns": null,
            "margin": null,
            "display": null,
            "left": null
          }
        },
        "cac3ed16cee141058505104325c61ad6": {
          "model_module": "@jupyter-widgets/controls",
          "model_name": "ProgressStyleModel",
          "model_module_version": "1.5.0",
          "state": {
            "_view_name": "StyleView",
            "_model_name": "ProgressStyleModel",
            "description_width": "",
            "_view_module": "@jupyter-widgets/base",
            "_model_module_version": "1.5.0",
            "_view_count": null,
            "_view_module_version": "1.2.0",
            "bar_color": null,
            "_model_module": "@jupyter-widgets/controls"
          }
        },
        "c2b74b7d8aa145eca30649749629accc": {
          "model_module": "@jupyter-widgets/base",
          "model_name": "LayoutModel",
          "model_module_version": "1.2.0",
          "state": {
            "_view_name": "LayoutView",
            "grid_template_rows": null,
            "right": null,
            "justify_content": null,
            "_view_module": "@jupyter-widgets/base",
            "overflow": null,
            "_model_module_version": "1.2.0",
            "_view_count": null,
            "flex_flow": null,
            "width": null,
            "min_width": null,
            "border": null,
            "align_items": null,
            "bottom": null,
            "_model_module": "@jupyter-widgets/base",
            "top": null,
            "grid_column": null,
            "overflow_y": null,
            "overflow_x": null,
            "grid_auto_flow": null,
            "grid_area": null,
            "grid_template_columns": null,
            "flex": null,
            "_model_name": "LayoutModel",
            "justify_items": null,
            "grid_row": null,
            "max_height": null,
            "align_content": null,
            "visibility": null,
            "align_self": null,
            "height": null,
            "min_height": null,
            "padding": null,
            "grid_auto_rows": null,
            "grid_gap": null,
            "max_width": null,
            "order": null,
            "_view_module_version": "1.2.0",
            "grid_template_areas": null,
            "object_position": null,
            "object_fit": null,
            "grid_auto_columns": null,
            "margin": null,
            "display": null,
            "left": null
          }
        },
        "916e46a146ea4bd4938ef385499361fb": {
          "model_module": "@jupyter-widgets/controls",
          "model_name": "DescriptionStyleModel",
          "model_module_version": "1.5.0",
          "state": {
            "_view_name": "StyleView",
            "_model_name": "DescriptionStyleModel",
            "description_width": "",
            "_view_module": "@jupyter-widgets/base",
            "_model_module_version": "1.5.0",
            "_view_count": null,
            "_view_module_version": "1.2.0",
            "_model_module": "@jupyter-widgets/controls"
          }
        },
        "eff5cd1fdf1d4042a71a8ef0e659af3f": {
          "model_module": "@jupyter-widgets/base",
          "model_name": "LayoutModel",
          "model_module_version": "1.2.0",
          "state": {
            "_view_name": "LayoutView",
            "grid_template_rows": null,
            "right": null,
            "justify_content": null,
            "_view_module": "@jupyter-widgets/base",
            "overflow": null,
            "_model_module_version": "1.2.0",
            "_view_count": null,
            "flex_flow": null,
            "width": null,
            "min_width": null,
            "border": null,
            "align_items": null,
            "bottom": null,
            "_model_module": "@jupyter-widgets/base",
            "top": null,
            "grid_column": null,
            "overflow_y": null,
            "overflow_x": null,
            "grid_auto_flow": null,
            "grid_area": null,
            "grid_template_columns": null,
            "flex": null,
            "_model_name": "LayoutModel",
            "justify_items": null,
            "grid_row": null,
            "max_height": null,
            "align_content": null,
            "visibility": null,
            "align_self": null,
            "height": null,
            "min_height": null,
            "padding": null,
            "grid_auto_rows": null,
            "grid_gap": null,
            "max_width": null,
            "order": null,
            "_view_module_version": "1.2.0",
            "grid_template_areas": null,
            "object_position": null,
            "object_fit": null,
            "grid_auto_columns": null,
            "margin": null,
            "display": null,
            "left": null
          }
        },
        "98047a1c2eca49a28c603f4d50ede5e3": {
          "model_module": "@jupyter-widgets/controls",
          "model_name": "HBoxModel",
          "model_module_version": "1.5.0",
          "state": {
            "_view_name": "HBoxView",
            "_dom_classes": [],
            "_model_name": "HBoxModel",
            "_view_module": "@jupyter-widgets/controls",
            "_model_module_version": "1.5.0",
            "_view_count": null,
            "_view_module_version": "1.5.0",
            "box_style": "",
            "layout": "IPY_MODEL_8eb4a468861748c29c34c405f9a27d8d",
            "_model_module": "@jupyter-widgets/controls",
            "children": [
              "IPY_MODEL_aa811a4049a84fffaf29d4e7d6dd1ae5",
              "IPY_MODEL_24480f3200b44afe858e8b4b0ddd169d",
              "IPY_MODEL_b85a94e730da47f687fabb2a6e407709"
            ]
          }
        },
        "8eb4a468861748c29c34c405f9a27d8d": {
          "model_module": "@jupyter-widgets/base",
          "model_name": "LayoutModel",
          "model_module_version": "1.2.0",
          "state": {
            "_view_name": "LayoutView",
            "grid_template_rows": null,
            "right": null,
            "justify_content": null,
            "_view_module": "@jupyter-widgets/base",
            "overflow": null,
            "_model_module_version": "1.2.0",
            "_view_count": null,
            "flex_flow": null,
            "width": null,
            "min_width": null,
            "border": null,
            "align_items": null,
            "bottom": null,
            "_model_module": "@jupyter-widgets/base",
            "top": null,
            "grid_column": null,
            "overflow_y": null,
            "overflow_x": null,
            "grid_auto_flow": null,
            "grid_area": null,
            "grid_template_columns": null,
            "flex": null,
            "_model_name": "LayoutModel",
            "justify_items": null,
            "grid_row": null,
            "max_height": null,
            "align_content": null,
            "visibility": null,
            "align_self": null,
            "height": null,
            "min_height": null,
            "padding": null,
            "grid_auto_rows": null,
            "grid_gap": null,
            "max_width": null,
            "order": null,
            "_view_module_version": "1.2.0",
            "grid_template_areas": null,
            "object_position": null,
            "object_fit": null,
            "grid_auto_columns": null,
            "margin": null,
            "display": null,
            "left": null
          }
        },
        "aa811a4049a84fffaf29d4e7d6dd1ae5": {
          "model_module": "@jupyter-widgets/controls",
          "model_name": "HTMLModel",
          "model_module_version": "1.5.0",
          "state": {
            "_view_name": "HTMLView",
            "style": "IPY_MODEL_07b93d74fa18493a9c6998d58a38f4d3",
            "_dom_classes": [],
            "description": "",
            "_model_name": "HTMLModel",
            "placeholder": "​",
            "_view_module": "@jupyter-widgets/controls",
            "_model_module_version": "1.5.0",
            "value": "100%",
            "_view_count": null,
            "_view_module_version": "1.5.0",
            "description_tooltip": null,
            "_model_module": "@jupyter-widgets/controls",
            "layout": "IPY_MODEL_12c074f35ef6490b84e2594a5491491f"
          }
        },
        "24480f3200b44afe858e8b4b0ddd169d": {
          "model_module": "@jupyter-widgets/controls",
          "model_name": "FloatProgressModel",
          "model_module_version": "1.5.0",
          "state": {
            "_view_name": "ProgressView",
            "style": "IPY_MODEL_e4dc9c9079534efe8e477045b9d82e19",
            "_dom_classes": [],
            "description": "",
            "_model_name": "FloatProgressModel",
            "bar_style": "success",
            "max": 5001,
            "_view_module": "@jupyter-widgets/controls",
            "_model_module_version": "1.5.0",
            "value": 5001,
            "_view_count": null,
            "_view_module_version": "1.5.0",
            "orientation": "horizontal",
            "min": 0,
            "description_tooltip": null,
            "_model_module": "@jupyter-widgets/controls",
            "layout": "IPY_MODEL_172d54047c644e52b29feb09e525f1ca"
          }
        },
        "b85a94e730da47f687fabb2a6e407709": {
          "model_module": "@jupyter-widgets/controls",
          "model_name": "HTMLModel",
          "model_module_version": "1.5.0",
          "state": {
            "_view_name": "HTMLView",
            "style": "IPY_MODEL_11fef5f68d3745f99058e0d881467f42",
            "_dom_classes": [],
            "description": "",
            "_model_name": "HTMLModel",
            "placeholder": "​",
            "_view_module": "@jupyter-widgets/controls",
            "_model_module_version": "1.5.0",
            "value": " 5001/5001 [00:00&lt;00:00, 8416.06it/s]",
            "_view_count": null,
            "_view_module_version": "1.5.0",
            "description_tooltip": null,
            "_model_module": "@jupyter-widgets/controls",
            "layout": "IPY_MODEL_776bc6c91aba472f86c3062bd00b7526"
          }
        },
        "07b93d74fa18493a9c6998d58a38f4d3": {
          "model_module": "@jupyter-widgets/controls",
          "model_name": "DescriptionStyleModel",
          "model_module_version": "1.5.0",
          "state": {
            "_view_name": "StyleView",
            "_model_name": "DescriptionStyleModel",
            "description_width": "",
            "_view_module": "@jupyter-widgets/base",
            "_model_module_version": "1.5.0",
            "_view_count": null,
            "_view_module_version": "1.2.0",
            "_model_module": "@jupyter-widgets/controls"
          }
        },
        "12c074f35ef6490b84e2594a5491491f": {
          "model_module": "@jupyter-widgets/base",
          "model_name": "LayoutModel",
          "model_module_version": "1.2.0",
          "state": {
            "_view_name": "LayoutView",
            "grid_template_rows": null,
            "right": null,
            "justify_content": null,
            "_view_module": "@jupyter-widgets/base",
            "overflow": null,
            "_model_module_version": "1.2.0",
            "_view_count": null,
            "flex_flow": null,
            "width": null,
            "min_width": null,
            "border": null,
            "align_items": null,
            "bottom": null,
            "_model_module": "@jupyter-widgets/base",
            "top": null,
            "grid_column": null,
            "overflow_y": null,
            "overflow_x": null,
            "grid_auto_flow": null,
            "grid_area": null,
            "grid_template_columns": null,
            "flex": null,
            "_model_name": "LayoutModel",
            "justify_items": null,
            "grid_row": null,
            "max_height": null,
            "align_content": null,
            "visibility": null,
            "align_self": null,
            "height": null,
            "min_height": null,
            "padding": null,
            "grid_auto_rows": null,
            "grid_gap": null,
            "max_width": null,
            "order": null,
            "_view_module_version": "1.2.0",
            "grid_template_areas": null,
            "object_position": null,
            "object_fit": null,
            "grid_auto_columns": null,
            "margin": null,
            "display": null,
            "left": null
          }
        },
        "e4dc9c9079534efe8e477045b9d82e19": {
          "model_module": "@jupyter-widgets/controls",
          "model_name": "ProgressStyleModel",
          "model_module_version": "1.5.0",
          "state": {
            "_view_name": "StyleView",
            "_model_name": "ProgressStyleModel",
            "description_width": "",
            "_view_module": "@jupyter-widgets/base",
            "_model_module_version": "1.5.0",
            "_view_count": null,
            "_view_module_version": "1.2.0",
            "bar_color": null,
            "_model_module": "@jupyter-widgets/controls"
          }
        },
        "172d54047c644e52b29feb09e525f1ca": {
          "model_module": "@jupyter-widgets/base",
          "model_name": "LayoutModel",
          "model_module_version": "1.2.0",
          "state": {
            "_view_name": "LayoutView",
            "grid_template_rows": null,
            "right": null,
            "justify_content": null,
            "_view_module": "@jupyter-widgets/base",
            "overflow": null,
            "_model_module_version": "1.2.0",
            "_view_count": null,
            "flex_flow": null,
            "width": null,
            "min_width": null,
            "border": null,
            "align_items": null,
            "bottom": null,
            "_model_module": "@jupyter-widgets/base",
            "top": null,
            "grid_column": null,
            "overflow_y": null,
            "overflow_x": null,
            "grid_auto_flow": null,
            "grid_area": null,
            "grid_template_columns": null,
            "flex": null,
            "_model_name": "LayoutModel",
            "justify_items": null,
            "grid_row": null,
            "max_height": null,
            "align_content": null,
            "visibility": null,
            "align_self": null,
            "height": null,
            "min_height": null,
            "padding": null,
            "grid_auto_rows": null,
            "grid_gap": null,
            "max_width": null,
            "order": null,
            "_view_module_version": "1.2.0",
            "grid_template_areas": null,
            "object_position": null,
            "object_fit": null,
            "grid_auto_columns": null,
            "margin": null,
            "display": null,
            "left": null
          }
        },
        "11fef5f68d3745f99058e0d881467f42": {
          "model_module": "@jupyter-widgets/controls",
          "model_name": "DescriptionStyleModel",
          "model_module_version": "1.5.0",
          "state": {
            "_view_name": "StyleView",
            "_model_name": "DescriptionStyleModel",
            "description_width": "",
            "_view_module": "@jupyter-widgets/base",
            "_model_module_version": "1.5.0",
            "_view_count": null,
            "_view_module_version": "1.2.0",
            "_model_module": "@jupyter-widgets/controls"
          }
        },
        "776bc6c91aba472f86c3062bd00b7526": {
          "model_module": "@jupyter-widgets/base",
          "model_name": "LayoutModel",
          "model_module_version": "1.2.0",
          "state": {
            "_view_name": "LayoutView",
            "grid_template_rows": null,
            "right": null,
            "justify_content": null,
            "_view_module": "@jupyter-widgets/base",
            "overflow": null,
            "_model_module_version": "1.2.0",
            "_view_count": null,
            "flex_flow": null,
            "width": null,
            "min_width": null,
            "border": null,
            "align_items": null,
            "bottom": null,
            "_model_module": "@jupyter-widgets/base",
            "top": null,
            "grid_column": null,
            "overflow_y": null,
            "overflow_x": null,
            "grid_auto_flow": null,
            "grid_area": null,
            "grid_template_columns": null,
            "flex": null,
            "_model_name": "LayoutModel",
            "justify_items": null,
            "grid_row": null,
            "max_height": null,
            "align_content": null,
            "visibility": null,
            "align_self": null,
            "height": null,
            "min_height": null,
            "padding": null,
            "grid_auto_rows": null,
            "grid_gap": null,
            "max_width": null,
            "order": null,
            "_view_module_version": "1.2.0",
            "grid_template_areas": null,
            "object_position": null,
            "object_fit": null,
            "grid_auto_columns": null,
            "margin": null,
            "display": null,
            "left": null
          }
        }
      }
    }
  },
  "cells": [
    {
      "cell_type": "markdown",
      "metadata": {
        "id": "view-in-github",
        "colab_type": "text"
      },
      "source": [
        "<a href=\"https://colab.research.google.com/github/map72ru/data_mining/blob/main/hw_webinar_6.ipynb\" target=\"_parent\"><img src=\"https://colab.research.google.com/assets/colab-badge.svg\" alt=\"Open In Colab\"/></a>"
      ]
    },
    {
      "cell_type": "markdown",
      "metadata": {
        "id": "nMBdGcvjC4Ji"
      },
      "source": [
        "# Вебинар 6. Двухуровневые модели рекомендаций\n"
      ]
    },
    {
      "cell_type": "markdown",
      "metadata": {
        "id": "3Jgaacz0C4Jl"
      },
      "source": [
        "Код для src, utils, metrics вы можете скачать из [этого](https://github.com/geangohn/recsys-tutorial) github репозитория"
      ]
    },
    {
      "cell_type": "code",
      "metadata": {
        "colab": {
          "base_uri": "https://localhost:8080/"
        },
        "id": "GRpYkHeiailc",
        "outputId": "1dbc2927-cb72-4d53-9b32-cd6d5e8782ef"
      },
      "source": [
        "!pip install implicit"
      ],
      "execution_count": 1,
      "outputs": [
        {
          "output_type": "stream",
          "name": "stdout",
          "text": [
            "Collecting implicit\n",
            "  Downloading implicit-0.4.8.tar.gz (1.1 MB)\n",
            "\u001b[?25l\r\u001b[K     |▎                               | 10 kB 24.9 MB/s eta 0:00:01\r\u001b[K     |▋                               | 20 kB 27.6 MB/s eta 0:00:01\r\u001b[K     |▉                               | 30 kB 12.3 MB/s eta 0:00:01\r\u001b[K     |█▏                              | 40 kB 9.2 MB/s eta 0:00:01\r\u001b[K     |█▍                              | 51 kB 5.2 MB/s eta 0:00:01\r\u001b[K     |█▊                              | 61 kB 5.7 MB/s eta 0:00:01\r\u001b[K     |██                              | 71 kB 5.4 MB/s eta 0:00:01\r\u001b[K     |██▎                             | 81 kB 6.1 MB/s eta 0:00:01\r\u001b[K     |██▋                             | 92 kB 4.7 MB/s eta 0:00:01\r\u001b[K     |██▉                             | 102 kB 5.0 MB/s eta 0:00:01\r\u001b[K     |███▏                            | 112 kB 5.0 MB/s eta 0:00:01\r\u001b[K     |███▍                            | 122 kB 5.0 MB/s eta 0:00:01\r\u001b[K     |███▊                            | 133 kB 5.0 MB/s eta 0:00:01\r\u001b[K     |████                            | 143 kB 5.0 MB/s eta 0:00:01\r\u001b[K     |████▎                           | 153 kB 5.0 MB/s eta 0:00:01\r\u001b[K     |████▋                           | 163 kB 5.0 MB/s eta 0:00:01\r\u001b[K     |████▉                           | 174 kB 5.0 MB/s eta 0:00:01\r\u001b[K     |█████▏                          | 184 kB 5.0 MB/s eta 0:00:01\r\u001b[K     |█████▍                          | 194 kB 5.0 MB/s eta 0:00:01\r\u001b[K     |█████▊                          | 204 kB 5.0 MB/s eta 0:00:01\r\u001b[K     |██████                          | 215 kB 5.0 MB/s eta 0:00:01\r\u001b[K     |██████▎                         | 225 kB 5.0 MB/s eta 0:00:01\r\u001b[K     |██████▋                         | 235 kB 5.0 MB/s eta 0:00:01\r\u001b[K     |██████▉                         | 245 kB 5.0 MB/s eta 0:00:01\r\u001b[K     |███████▏                        | 256 kB 5.0 MB/s eta 0:00:01\r\u001b[K     |███████▌                        | 266 kB 5.0 MB/s eta 0:00:01\r\u001b[K     |███████▊                        | 276 kB 5.0 MB/s eta 0:00:01\r\u001b[K     |████████                        | 286 kB 5.0 MB/s eta 0:00:01\r\u001b[K     |████████▎                       | 296 kB 5.0 MB/s eta 0:00:01\r\u001b[K     |████████▋                       | 307 kB 5.0 MB/s eta 0:00:01\r\u001b[K     |████████▉                       | 317 kB 5.0 MB/s eta 0:00:01\r\u001b[K     |█████████▏                      | 327 kB 5.0 MB/s eta 0:00:01\r\u001b[K     |█████████▌                      | 337 kB 5.0 MB/s eta 0:00:01\r\u001b[K     |█████████▊                      | 348 kB 5.0 MB/s eta 0:00:01\r\u001b[K     |██████████                      | 358 kB 5.0 MB/s eta 0:00:01\r\u001b[K     |██████████▎                     | 368 kB 5.0 MB/s eta 0:00:01\r\u001b[K     |██████████▋                     | 378 kB 5.0 MB/s eta 0:00:01\r\u001b[K     |██████████▉                     | 389 kB 5.0 MB/s eta 0:00:01\r\u001b[K     |███████████▏                    | 399 kB 5.0 MB/s eta 0:00:01\r\u001b[K     |███████████▌                    | 409 kB 5.0 MB/s eta 0:00:01\r\u001b[K     |███████████▊                    | 419 kB 5.0 MB/s eta 0:00:01\r\u001b[K     |████████████                    | 430 kB 5.0 MB/s eta 0:00:01\r\u001b[K     |████████████▎                   | 440 kB 5.0 MB/s eta 0:00:01\r\u001b[K     |████████████▋                   | 450 kB 5.0 MB/s eta 0:00:01\r\u001b[K     |█████████████                   | 460 kB 5.0 MB/s eta 0:00:01\r\u001b[K     |█████████████▏                  | 471 kB 5.0 MB/s eta 0:00:01\r\u001b[K     |█████████████▌                  | 481 kB 5.0 MB/s eta 0:00:01\r\u001b[K     |█████████████▊                  | 491 kB 5.0 MB/s eta 0:00:01\r\u001b[K     |██████████████                  | 501 kB 5.0 MB/s eta 0:00:01\r\u001b[K     |██████████████▎                 | 512 kB 5.0 MB/s eta 0:00:01\r\u001b[K     |██████████████▋                 | 522 kB 5.0 MB/s eta 0:00:01\r\u001b[K     |███████████████                 | 532 kB 5.0 MB/s eta 0:00:01\r\u001b[K     |███████████████▏                | 542 kB 5.0 MB/s eta 0:00:01\r\u001b[K     |███████████████▌                | 552 kB 5.0 MB/s eta 0:00:01\r\u001b[K     |███████████████▊                | 563 kB 5.0 MB/s eta 0:00:01\r\u001b[K     |████████████████                | 573 kB 5.0 MB/s eta 0:00:01\r\u001b[K     |████████████████▎               | 583 kB 5.0 MB/s eta 0:00:01\r\u001b[K     |████████████████▋               | 593 kB 5.0 MB/s eta 0:00:01\r\u001b[K     |█████████████████               | 604 kB 5.0 MB/s eta 0:00:01\r\u001b[K     |█████████████████▏              | 614 kB 5.0 MB/s eta 0:00:01\r\u001b[K     |█████████████████▌              | 624 kB 5.0 MB/s eta 0:00:01\r\u001b[K     |█████████████████▊              | 634 kB 5.0 MB/s eta 0:00:01\r\u001b[K     |██████████████████              | 645 kB 5.0 MB/s eta 0:00:01\r\u001b[K     |██████████████████▍             | 655 kB 5.0 MB/s eta 0:00:01\r\u001b[K     |██████████████████▋             | 665 kB 5.0 MB/s eta 0:00:01\r\u001b[K     |███████████████████             | 675 kB 5.0 MB/s eta 0:00:01\r\u001b[K     |███████████████████▏            | 686 kB 5.0 MB/s eta 0:00:01\r\u001b[K     |███████████████████▌            | 696 kB 5.0 MB/s eta 0:00:01\r\u001b[K     |███████████████████▊            | 706 kB 5.0 MB/s eta 0:00:01\r\u001b[K     |████████████████████            | 716 kB 5.0 MB/s eta 0:00:01\r\u001b[K     |████████████████████▍           | 727 kB 5.0 MB/s eta 0:00:01\r\u001b[K     |████████████████████▋           | 737 kB 5.0 MB/s eta 0:00:01\r\u001b[K     |█████████████████████           | 747 kB 5.0 MB/s eta 0:00:01\r\u001b[K     |█████████████████████▏          | 757 kB 5.0 MB/s eta 0:00:01\r\u001b[K     |█████████████████████▌          | 768 kB 5.0 MB/s eta 0:00:01\r\u001b[K     |█████████████████████▊          | 778 kB 5.0 MB/s eta 0:00:01\r\u001b[K     |██████████████████████          | 788 kB 5.0 MB/s eta 0:00:01\r\u001b[K     |██████████████████████▍         | 798 kB 5.0 MB/s eta 0:00:01\r\u001b[K     |██████████████████████▋         | 808 kB 5.0 MB/s eta 0:00:01\r\u001b[K     |███████████████████████         | 819 kB 5.0 MB/s eta 0:00:01\r\u001b[K     |███████████████████████▏        | 829 kB 5.0 MB/s eta 0:00:01\r\u001b[K     |███████████████████████▌        | 839 kB 5.0 MB/s eta 0:00:01\r\u001b[K     |███████████████████████▉        | 849 kB 5.0 MB/s eta 0:00:01\r\u001b[K     |████████████████████████        | 860 kB 5.0 MB/s eta 0:00:01\r\u001b[K     |████████████████████████▍       | 870 kB 5.0 MB/s eta 0:00:01\r\u001b[K     |████████████████████████▋       | 880 kB 5.0 MB/s eta 0:00:01\r\u001b[K     |█████████████████████████       | 890 kB 5.0 MB/s eta 0:00:01\r\u001b[K     |█████████████████████████▏      | 901 kB 5.0 MB/s eta 0:00:01\r\u001b[K     |█████████████████████████▌      | 911 kB 5.0 MB/s eta 0:00:01\r\u001b[K     |█████████████████████████▉      | 921 kB 5.0 MB/s eta 0:00:01\r\u001b[K     |██████████████████████████      | 931 kB 5.0 MB/s eta 0:00:01\r\u001b[K     |██████████████████████████▍     | 942 kB 5.0 MB/s eta 0:00:01\r\u001b[K     |██████████████████████████▋     | 952 kB 5.0 MB/s eta 0:00:01\r\u001b[K     |███████████████████████████     | 962 kB 5.0 MB/s eta 0:00:01\r\u001b[K     |███████████████████████████▏    | 972 kB 5.0 MB/s eta 0:00:01\r\u001b[K     |███████████████████████████▌    | 983 kB 5.0 MB/s eta 0:00:01\r\u001b[K     |███████████████████████████▉    | 993 kB 5.0 MB/s eta 0:00:01\r\u001b[K     |████████████████████████████    | 1.0 MB 5.0 MB/s eta 0:00:01\r\u001b[K     |████████████████████████████▍   | 1.0 MB 5.0 MB/s eta 0:00:01\r\u001b[K     |████████████████████████████▋   | 1.0 MB 5.0 MB/s eta 0:00:01\r\u001b[K     |█████████████████████████████   | 1.0 MB 5.0 MB/s eta 0:00:01\r\u001b[K     |█████████████████████████████▎  | 1.0 MB 5.0 MB/s eta 0:00:01\r\u001b[K     |█████████████████████████████▌  | 1.1 MB 5.0 MB/s eta 0:00:01\r\u001b[K     |█████████████████████████████▉  | 1.1 MB 5.0 MB/s eta 0:00:01\r\u001b[K     |██████████████████████████████  | 1.1 MB 5.0 MB/s eta 0:00:01\r\u001b[K     |██████████████████████████████▍ | 1.1 MB 5.0 MB/s eta 0:00:01\r\u001b[K     |██████████████████████████████▋ | 1.1 MB 5.0 MB/s eta 0:00:01\r\u001b[K     |███████████████████████████████ | 1.1 MB 5.0 MB/s eta 0:00:01\r\u001b[K     |███████████████████████████████▎| 1.1 MB 5.0 MB/s eta 0:00:01\r\u001b[K     |███████████████████████████████▌| 1.1 MB 5.0 MB/s eta 0:00:01\r\u001b[K     |███████████████████████████████▉| 1.1 MB 5.0 MB/s eta 0:00:01\r\u001b[K     |████████████████████████████████| 1.1 MB 5.0 MB/s \n",
            "\u001b[?25h  Installing build dependencies ... \u001b[?25l\u001b[?25hdone\n",
            "  Getting requirements to build wheel ... \u001b[?25l\u001b[?25hdone\n",
            "  Installing backend dependencies ... \u001b[?25l\u001b[?25hdone\n",
            "    Preparing wheel metadata ... \u001b[?25l\u001b[?25hdone\n",
            "Requirement already satisfied: tqdm>=4.27 in /usr/local/lib/python3.7/dist-packages (from implicit) (4.62.3)\n",
            "Requirement already satisfied: scipy>=0.16 in /usr/local/lib/python3.7/dist-packages (from implicit) (1.4.1)\n",
            "Requirement already satisfied: numpy in /usr/local/lib/python3.7/dist-packages (from implicit) (1.19.5)\n",
            "Building wheels for collected packages: implicit\n",
            "  Building wheel for implicit (PEP 517) ... \u001b[?25l\u001b[?25hdone\n",
            "  Created wheel for implicit: filename=implicit-0.4.8-cp37-cp37m-linux_x86_64.whl size=4606655 sha256=2b8be54683edca9dfd495661b0c061dc8af7f151f57bcfec7d2fe1aab7ff4ff2\n",
            "  Stored in directory: /root/.cache/pip/wheels/88/e6/34/25e73cccbaf1a961154bb562a5f86123b68fdbf40e306073d6\n",
            "Successfully built implicit\n",
            "Installing collected packages: implicit\n",
            "Successfully installed implicit-0.4.8\n"
          ]
        }
      ]
    },
    {
      "cell_type": "code",
      "metadata": {
        "colab": {
          "base_uri": "https://localhost:8080/"
        },
        "id": "Q5pEPDEsaDvC",
        "outputId": "e28e0ed1-159b-4770-d9f0-edc4f97429cd"
      },
      "source": [
        "from google.colab import drive\n",
        "drive.flush_and_unmount()\n",
        "drive.mount('/content/hw2')\n",
        "\n",
        "import sys\n",
        "sys.path.append('/content/hw2/MyDrive')"
      ],
      "execution_count": 3,
      "outputs": [
        {
          "output_type": "stream",
          "name": "stdout",
          "text": [
            "Drive not mounted, so nothing to flush and unmount.\n",
            "Mounted at /content/hw2\n"
          ]
        }
      ]
    },
    {
      "cell_type": "code",
      "metadata": {
        "id": "5Aur99NsC4Jm"
      },
      "source": [
        "import pandas as pd\n",
        "import numpy as np\n",
        "import matplotlib.pyplot as plt\n",
        "%matplotlib inline\n",
        "\n",
        "# Для работы с матрицами\n",
        "from scipy.sparse import csr_matrix\n",
        "\n",
        "# Матричная факторизация\n",
        "from implicit import als\n",
        "\n",
        "# Модель второго уровня\n",
        "from lightgbm import LGBMClassifier\n",
        "\n",
        "import os, sys\n",
        "module_path = os.path.abspath(os.path.join(os.pardir))\n",
        "if module_path not in sys.path:\n",
        "    sys.path.append(module_path)\n",
        "\n",
        "# Написанные нами функции\n",
        "from src.metrics import precision_at_k, recall_at_k\n",
        "from src.utils import prefilter_items\n",
        "from src.recommenders import MainRecommender"
      ],
      "execution_count": 4,
      "outputs": []
    },
    {
      "cell_type": "code",
      "metadata": {
        "id": "vso_erSdC4Jo",
        "colab": {
          "base_uri": "https://localhost:8080/",
          "height": 111
        },
        "outputId": "cf9f9d7b-18d4-4ae6-afda-645f6f9629c9"
      },
      "source": [
        "data = pd.read_csv('/content/hw2/MyDrive/data/retail_train.csv')\n",
        "item_features = pd.read_csv('/content/hw2/MyDrive/data/product.csv')\n",
        "user_features = pd.read_csv('/content/hw2/MyDrive/data/hh_demographic.csv')\n",
        "\n",
        "# column processing\n",
        "item_features.columns = [col.lower() for col in item_features.columns]\n",
        "user_features.columns = [col.lower() for col in user_features.columns]\n",
        "\n",
        "item_features.rename(columns={'product_id': 'item_id'}, inplace=True)\n",
        "user_features.rename(columns={'household_key': 'user_id'}, inplace=True)\n",
        "\n",
        "\n",
        "# Важна схема обучения и валидации!\n",
        "# -- давние покупки -- | -- 6 недель -- | -- 3 недель -- \n",
        "# подобрать размер 2-ого датасета (6 недель) --> learning curve (зависимость метрики recall@k от размера датасета)\n",
        "val_lvl_1_size_weeks = 6\n",
        "val_lvl_2_size_weeks = 3\n",
        "\n",
        "data_train_lvl_1 = data[data['week_no'] < data['week_no'].max() - (val_lvl_1_size_weeks + val_lvl_2_size_weeks)]\n",
        "data_val_lvl_1 = data[(data['week_no'] >= data['week_no'].max() - (val_lvl_1_size_weeks + val_lvl_2_size_weeks)) &\n",
        "                      (data['week_no'] < data['week_no'].max() - (val_lvl_2_size_weeks))]\n",
        "\n",
        "data_train_lvl_2 = data_val_lvl_1.copy()  # Для наглядности. Далее мы добавим изменения, и они будут отличаться\n",
        "data_val_lvl_2 = data[data['week_no'] >= data['week_no'].max() - val_lvl_2_size_weeks]\n",
        "\n",
        "data_train_lvl_1.head(2)"
      ],
      "execution_count": 5,
      "outputs": [
        {
          "output_type": "execute_result",
          "data": {
            "text/html": [
              "<div>\n",
              "<style scoped>\n",
              "    .dataframe tbody tr th:only-of-type {\n",
              "        vertical-align: middle;\n",
              "    }\n",
              "\n",
              "    .dataframe tbody tr th {\n",
              "        vertical-align: top;\n",
              "    }\n",
              "\n",
              "    .dataframe thead th {\n",
              "        text-align: right;\n",
              "    }\n",
              "</style>\n",
              "<table border=\"1\" class=\"dataframe\">\n",
              "  <thead>\n",
              "    <tr style=\"text-align: right;\">\n",
              "      <th></th>\n",
              "      <th>user_id</th>\n",
              "      <th>basket_id</th>\n",
              "      <th>day</th>\n",
              "      <th>item_id</th>\n",
              "      <th>quantity</th>\n",
              "      <th>sales_value</th>\n",
              "      <th>store_id</th>\n",
              "      <th>retail_disc</th>\n",
              "      <th>trans_time</th>\n",
              "      <th>week_no</th>\n",
              "      <th>coupon_disc</th>\n",
              "      <th>coupon_match_disc</th>\n",
              "    </tr>\n",
              "  </thead>\n",
              "  <tbody>\n",
              "    <tr>\n",
              "      <th>0</th>\n",
              "      <td>2375</td>\n",
              "      <td>26984851472</td>\n",
              "      <td>1</td>\n",
              "      <td>1004906</td>\n",
              "      <td>1</td>\n",
              "      <td>1.39</td>\n",
              "      <td>364</td>\n",
              "      <td>-0.6</td>\n",
              "      <td>1631</td>\n",
              "      <td>1</td>\n",
              "      <td>0.0</td>\n",
              "      <td>0.0</td>\n",
              "    </tr>\n",
              "    <tr>\n",
              "      <th>1</th>\n",
              "      <td>2375</td>\n",
              "      <td>26984851472</td>\n",
              "      <td>1</td>\n",
              "      <td>1033142</td>\n",
              "      <td>1</td>\n",
              "      <td>0.82</td>\n",
              "      <td>364</td>\n",
              "      <td>0.0</td>\n",
              "      <td>1631</td>\n",
              "      <td>1</td>\n",
              "      <td>0.0</td>\n",
              "      <td>0.0</td>\n",
              "    </tr>\n",
              "  </tbody>\n",
              "</table>\n",
              "</div>"
            ],
            "text/plain": [
              "   user_id    basket_id  day  ...  week_no  coupon_disc  coupon_match_disc\n",
              "0     2375  26984851472    1  ...        1          0.0                0.0\n",
              "1     2375  26984851472    1  ...        1          0.0                0.0\n",
              "\n",
              "[2 rows x 12 columns]"
            ]
          },
          "metadata": {},
          "execution_count": 5
        }
      ]
    },
    {
      "cell_type": "code",
      "metadata": {
        "id": "zcnV3l4XC4Jp",
        "colab": {
          "base_uri": "https://localhost:8080/"
        },
        "outputId": "c7f22c17-db33-40ca-a084-375856946e5c"
      },
      "source": [
        "n_items_before = data_train_lvl_1['item_id'].nunique()\n",
        "\n",
        "data_train_lvl_1 = prefilter_items(data_train_lvl_1, item_features=item_features, take_n_popular=5000)\n",
        "\n",
        "n_items_after = data_train_lvl_1['item_id'].nunique()\n",
        "print('Decreased # items from {} to {}'.format(n_items_before, n_items_after))"
      ],
      "execution_count": 6,
      "outputs": [
        {
          "output_type": "stream",
          "name": "stdout",
          "text": [
            "Decreased # items from 83685 to 5001\n"
          ]
        }
      ]
    },
    {
      "cell_type": "code",
      "metadata": {
        "colab": {
          "base_uri": "https://localhost:8080/",
          "height": 98,
          "referenced_widgets": [
            "657ccffa993b43a5b4b50db44b72ab29",
            "4066da840f4243f6833e454910f8ae33",
            "6ec7611ff9ac4cc995429c74380f4ce1",
            "7ef99a1fa712479091e3f491008dad6f",
            "aee789edcf2e4e66847b56816322db91",
            "a9a0e100a2084c4cb0c247f8b934a24d",
            "3326d807c1ef4c9a98db8477a81b0456",
            "cac3ed16cee141058505104325c61ad6",
            "c2b74b7d8aa145eca30649749629accc",
            "916e46a146ea4bd4938ef385499361fb",
            "eff5cd1fdf1d4042a71a8ef0e659af3f",
            "98047a1c2eca49a28c603f4d50ede5e3",
            "8eb4a468861748c29c34c405f9a27d8d",
            "aa811a4049a84fffaf29d4e7d6dd1ae5",
            "24480f3200b44afe858e8b4b0ddd169d",
            "b85a94e730da47f687fabb2a6e407709",
            "07b93d74fa18493a9c6998d58a38f4d3",
            "12c074f35ef6490b84e2594a5491491f",
            "e4dc9c9079534efe8e477045b9d82e19",
            "172d54047c644e52b29feb09e525f1ca",
            "11fef5f68d3745f99058e0d881467f42",
            "776bc6c91aba472f86c3062bd00b7526"
          ]
        },
        "id": "zgYXRQ0lC4Jq",
        "outputId": "ec99f5d8-6c35-4293-b512-a907b9138a87"
      },
      "source": [
        "recommender = MainRecommender(data_train_lvl_1)"
      ],
      "execution_count": 7,
      "outputs": [
        {
          "output_type": "stream",
          "name": "stderr",
          "text": [
            "WARNING:root:OpenBLAS detected. Its highly recommend to set the environment variable 'export OPENBLAS_NUM_THREADS=1' to disable its internal multithreading\n"
          ]
        },
        {
          "output_type": "display_data",
          "data": {
            "application/vnd.jupyter.widget-view+json": {
              "model_id": "657ccffa993b43a5b4b50db44b72ab29",
              "version_minor": 0,
              "version_major": 2
            },
            "text/plain": [
              "  0%|          | 0/15 [00:00<?, ?it/s]"
            ]
          },
          "metadata": {}
        },
        {
          "output_type": "display_data",
          "data": {
            "application/vnd.jupyter.widget-view+json": {
              "model_id": "98047a1c2eca49a28c603f4d50ede5e3",
              "version_minor": 0,
              "version_major": 2
            },
            "text/plain": [
              "  0%|          | 0/5001 [00:00<?, ?it/s]"
            ]
          },
          "metadata": {}
        }
      ]
    },
    {
      "cell_type": "code",
      "metadata": {
        "id": "xB9JX5swC4Jr",
        "colab": {
          "base_uri": "https://localhost:8080/"
        },
        "outputId": "22c81b4a-42dc-46c8-da13-aded6c70d3a8"
      },
      "source": [
        "recommender.get_als_recommendations(2375, N=5)"
      ],
      "execution_count": 8,
      "outputs": [
        {
          "output_type": "execute_result",
          "data": {
            "text/plain": [
              "[899624, 1106523, 871756, 1044078, 844179]"
            ]
          },
          "metadata": {},
          "execution_count": 8
        }
      ]
    },
    {
      "cell_type": "code",
      "metadata": {
        "id": "PNVa6jWLC4Jr",
        "colab": {
          "base_uri": "https://localhost:8080/"
        },
        "outputId": "5a91e97a-6fce-426a-bac1-d67c843a7caf"
      },
      "source": [
        "recommender.get_own_recommendations(2375, N=5)"
      ],
      "execution_count": 9,
      "outputs": [
        {
          "output_type": "execute_result",
          "data": {
            "text/plain": [
              "[948640, 918046, 847962, 907099, 873980]"
            ]
          },
          "metadata": {},
          "execution_count": 9
        }
      ]
    },
    {
      "cell_type": "code",
      "metadata": {
        "id": "0NoB_lSJC4Js",
        "colab": {
          "base_uri": "https://localhost:8080/"
        },
        "outputId": "510fb084-fc91-4ddb-9ac3-ac9192d393be"
      },
      "source": [
        "recommender.get_similar_items_recommendation(2375, N=5)"
      ],
      "execution_count": 10,
      "outputs": [
        {
          "output_type": "execute_result",
          "data": {
            "text/plain": [
              "[1046545, 1044078, 1042907, 1072519, 1133312]"
            ]
          },
          "metadata": {},
          "execution_count": 10
        }
      ]
    },
    {
      "cell_type": "code",
      "metadata": {
        "id": "GdQO5CWKC4Js",
        "colab": {
          "base_uri": "https://localhost:8080/"
        },
        "outputId": "9d691416-24ef-4fbb-a335-b084072889af"
      },
      "source": [
        "recommender.get_similar_users_recommendation(2375, N=5)"
      ],
      "execution_count": 11,
      "outputs": [
        {
          "output_type": "execute_result",
          "data": {
            "text/plain": [
              "[974265, 896757, 1012801, 5574377, 1101502]"
            ]
          },
          "metadata": {},
          "execution_count": 11
        }
      ]
    },
    {
      "cell_type": "markdown",
      "metadata": {
        "id": "Bqs9Sw_YC4Jt"
      },
      "source": [
        "### Задание 1\n",
        "\n",
        "A) Попробуйте различные варианты генерации кандидатов. Какие из них дают наибольший recall@k ?\n",
        "- Пока пробуем отобрать 50 кандидатов (k=50)\n",
        "- Качество измеряем на data_val_lvl_1: следующие 6 недель после трейна\n",
        "\n",
        "Дают ли own recommendtions + top-popular лучший recall?  \n",
        "\n",
        "B)* Как зависит recall@k от k? Постройте для одной схемы генерации кандидатов эту зависимость для k = {20, 50, 100, 200, 500}  \n",
        "C)* Исходя из прошлого вопроса, как вы думаете, какое значение k является наиболее разумным?\n"
      ]
    },
    {
      "cell_type": "code",
      "metadata": {
        "colab": {
          "base_uri": "https://localhost:8080/"
        },
        "id": "BY1rQ8zq57WF",
        "outputId": "46bea62c-868d-4a5d-819f-e0b2619f4101"
      },
      "source": [
        "userid = 2375\n",
        "k = 50\n",
        "\n",
        "user_items_id = data_val_lvl_1.query('user_id == @userid').item_id.unique()\n",
        "\n",
        "recomended_items_id = recommender.get_als_recommendations(userid, N=k)\n",
        "\n",
        "als_recall = recall_at_k(recomended_items_id, user_items_id, k)\n",
        "print(f\"als={als_recall}\")\n",
        "\n",
        "recomended_items_id = recommender.get_own_recommendations(userid, N=k)\n",
        "own_recall = recall_at_k(recomended_items_id, user_items_id, k)\n",
        "print(f\"own={own_recall}\")\n",
        "\n",
        "recomended_items_id = recommender.get_similar_items_recommendation(userid, N=k)\n",
        "sitems_recall = recall_at_k(recomended_items_id, user_items_id, k)\n",
        "print(f\"similar_items={sitems_recall}\")\n",
        "\n",
        "recomended_items_id = recommender.get_similar_users_recommendation(userid, N=k)\n",
        "susers_recall = recall_at_k(recomended_items_id, user_items_id, k)\n",
        "print(f\"similar_users={susers_recall}\")"
      ],
      "execution_count": 12,
      "outputs": [
        {
          "output_type": "stream",
          "name": "stdout",
          "text": [
            "als=0.04411764705882353\n",
            "own=0.08823529411764706\n",
            "similar_items=0.029411764705882353\n",
            "similar_users=0.0\n"
          ]
        }
      ]
    },
    {
      "cell_type": "markdown",
      "metadata": {
        "id": "kaAF1Iiw58l_"
      },
      "source": [
        "own+top popular дают лучший результат"
      ]
    },
    {
      "cell_type": "markdown",
      "metadata": {
        "id": "P1uMIwXs8MGV"
      },
      "source": [
        "B)* Как зависит recall@k от k? Постройте для одной схемы генерации кандидатов эту зависимость для k = {20, 50, 100, 200, 500}\n",
        "\n",
        "C)* Исходя из прошлого вопроса, как вы думаете, какое значение k является наиболее разумным?"
      ]
    },
    {
      "cell_type": "code",
      "metadata": {
        "id": "frt2RzDWC4Jt",
        "colab": {
          "base_uri": "https://localhost:8080/",
          "height": 111
        },
        "outputId": "15c7bac6-165c-4c05-9375-d9f86c91539d"
      },
      "source": [
        "result_lvl_1 = data_val_lvl_1.groupby('user_id')['item_id'].unique().reset_index()\n",
        "result_lvl_1.columns=['user_id', 'actual']\n",
        "result_lvl_1.head(2)"
      ],
      "execution_count": 13,
      "outputs": [
        {
          "output_type": "execute_result",
          "data": {
            "text/html": [
              "<div>\n",
              "<style scoped>\n",
              "    .dataframe tbody tr th:only-of-type {\n",
              "        vertical-align: middle;\n",
              "    }\n",
              "\n",
              "    .dataframe tbody tr th {\n",
              "        vertical-align: top;\n",
              "    }\n",
              "\n",
              "    .dataframe thead th {\n",
              "        text-align: right;\n",
              "    }\n",
              "</style>\n",
              "<table border=\"1\" class=\"dataframe\">\n",
              "  <thead>\n",
              "    <tr style=\"text-align: right;\">\n",
              "      <th></th>\n",
              "      <th>user_id</th>\n",
              "      <th>actual</th>\n",
              "    </tr>\n",
              "  </thead>\n",
              "  <tbody>\n",
              "    <tr>\n",
              "      <th>0</th>\n",
              "      <td>1</td>\n",
              "      <td>[853529, 865456, 867607, 872137, 874905, 87524...</td>\n",
              "    </tr>\n",
              "    <tr>\n",
              "      <th>1</th>\n",
              "      <td>2</td>\n",
              "      <td>[15830248, 838136, 839656, 861272, 866211, 870...</td>\n",
              "    </tr>\n",
              "  </tbody>\n",
              "</table>\n",
              "</div>"
            ],
            "text/plain": [
              "   user_id                                             actual\n",
              "0        1  [853529, 865456, 867607, 872137, 874905, 87524...\n",
              "1        2  [15830248, 838136, 839656, 861272, 866211, 870..."
            ]
          },
          "metadata": {},
          "execution_count": 13
        }
      ]
    },
    {
      "cell_type": "code",
      "metadata": {
        "colab": {
          "base_uri": "https://localhost:8080/"
        },
        "id": "S5VUQzq08TWj",
        "outputId": "fc05d6e0-baff-48f5-f35b-3c9e378e6970"
      },
      "source": [
        "for m in [20, 50, 100, 200, 500, 1000]:\n",
        "    recomended_items_id = recommender.get_own_recommendations(userid, N=m)\n",
        "    own_recall = 100*recall_at_k(recomended_items_id, user_items_id, m)\n",
        "    print(f\"k = {m} own={own_recall}\")"
      ],
      "execution_count": 14,
      "outputs": [
        {
          "output_type": "stream",
          "name": "stdout",
          "text": [
            "k = 20 own=1.4705882352941175\n",
            "k = 50 own=8.823529411764707\n",
            "k = 100 own=13.23529411764706\n",
            "k = 200 own=17.647058823529413\n",
            "k = 500 own=27.941176470588236\n",
            "k = 1000 own=27.941176470588236\n"
          ]
        }
      ]
    },
    {
      "cell_type": "markdown",
      "metadata": {
        "id": "hnKAkmEX8Vku"
      },
      "source": [
        "\n",
        "Чем больше k, тем метрика будет больше, поскольку вероятность попадания рекоментованных в купленные товары будет возростать. Если разумность значения k рассматривать чисто с математической точки зрения, то при достаточно большом K мы будем увеличивать метрику до 1. Если \"разумность\" рассмтаривать с точки зрения взаимодействия с пользователем, то самым разумным будет 20 из предложенного списка, хотя recall равен 0. Видно так же, что после 200 прирост точности замедляется. Я делал расчте для 1000. recall@1000 был равен 27.941176470588236\n"
      ]
    },
    {
      "cell_type": "markdown",
      "metadata": {
        "id": "bAHJu3Z5C4Ju"
      },
      "source": [
        "### Задание 2.\n",
        "\n",
        "Обучите модель 2-ого уровня, при этом:\n",
        "    - Добавьте минимум по 2 фичи для юзера, товара и пары юзер-товар\n",
        "    - Измерьте отдельно precision@5 модели 1-ого уровня и двухуровневой модели на data_val_lvl_2\n",
        "    - Вырос ли precision@5 при использовании двухуровневой модели?"
      ]
    },
    {
      "cell_type": "code",
      "metadata": {
        "id": "XZQcrch7C4Ju",
        "colab": {
          "base_uri": "https://localhost:8080/",
          "height": 142
        },
        "outputId": "f27caad8-3950-49ac-ff2b-40f30a8937e5"
      },
      "source": [
        "user_features.head(3)"
      ],
      "execution_count": 15,
      "outputs": [
        {
          "output_type": "execute_result",
          "data": {
            "text/html": [
              "<div>\n",
              "<style scoped>\n",
              "    .dataframe tbody tr th:only-of-type {\n",
              "        vertical-align: middle;\n",
              "    }\n",
              "\n",
              "    .dataframe tbody tr th {\n",
              "        vertical-align: top;\n",
              "    }\n",
              "\n",
              "    .dataframe thead th {\n",
              "        text-align: right;\n",
              "    }\n",
              "</style>\n",
              "<table border=\"1\" class=\"dataframe\">\n",
              "  <thead>\n",
              "    <tr style=\"text-align: right;\">\n",
              "      <th></th>\n",
              "      <th>age_desc</th>\n",
              "      <th>marital_status_code</th>\n",
              "      <th>income_desc</th>\n",
              "      <th>homeowner_desc</th>\n",
              "      <th>hh_comp_desc</th>\n",
              "      <th>household_size_desc</th>\n",
              "      <th>kid_category_desc</th>\n",
              "      <th>user_id</th>\n",
              "    </tr>\n",
              "  </thead>\n",
              "  <tbody>\n",
              "    <tr>\n",
              "      <th>0</th>\n",
              "      <td>65+</td>\n",
              "      <td>A</td>\n",
              "      <td>35-49K</td>\n",
              "      <td>Homeowner</td>\n",
              "      <td>2 Adults No Kids</td>\n",
              "      <td>2</td>\n",
              "      <td>None/Unknown</td>\n",
              "      <td>1</td>\n",
              "    </tr>\n",
              "    <tr>\n",
              "      <th>1</th>\n",
              "      <td>45-54</td>\n",
              "      <td>A</td>\n",
              "      <td>50-74K</td>\n",
              "      <td>Homeowner</td>\n",
              "      <td>2 Adults No Kids</td>\n",
              "      <td>2</td>\n",
              "      <td>None/Unknown</td>\n",
              "      <td>7</td>\n",
              "    </tr>\n",
              "    <tr>\n",
              "      <th>2</th>\n",
              "      <td>25-34</td>\n",
              "      <td>U</td>\n",
              "      <td>25-34K</td>\n",
              "      <td>Unknown</td>\n",
              "      <td>2 Adults Kids</td>\n",
              "      <td>3</td>\n",
              "      <td>1</td>\n",
              "      <td>8</td>\n",
              "    </tr>\n",
              "  </tbody>\n",
              "</table>\n",
              "</div>"
            ],
            "text/plain": [
              "  age_desc marital_status_code  ... kid_category_desc user_id\n",
              "0      65+                   A  ...      None/Unknown       1\n",
              "1    45-54                   A  ...      None/Unknown       7\n",
              "2    25-34                   U  ...                 1       8\n",
              "\n",
              "[3 rows x 8 columns]"
            ]
          },
          "metadata": {},
          "execution_count": 15
        }
      ]
    },
    {
      "cell_type": "code",
      "metadata": {
        "colab": {
          "base_uri": "https://localhost:8080/"
        },
        "id": "-Bw94IGVx4OI",
        "outputId": "ebc05f5e-3b9c-43c3-c0cf-301446e06d02"
      },
      "source": [
        "for col in user_features.columns:\n",
        "  if col != 'user_id':\n",
        "    print(f'column {col}: {user_features[col].unique()}')\n"
      ],
      "execution_count": 16,
      "outputs": [
        {
          "output_type": "stream",
          "name": "stdout",
          "text": [
            "column age_desc: ['65+' '45-54' '25-34' '35-44' '19-24' '55-64']\n",
            "column marital_status_code: ['A' 'U' 'B']\n",
            "column income_desc: ['35-49K' '50-74K' '25-34K' '75-99K' 'Under 15K' '100-124K' '15-24K'\n",
            " '125-149K' '150-174K' '250K+' '175-199K' '200-249K']\n",
            "column homeowner_desc: ['Homeowner' 'Unknown' 'Renter' 'Probable Renter' 'Probable Owner']\n",
            "column hh_comp_desc: ['2 Adults No Kids' '2 Adults Kids' 'Single Female' 'Unknown'\n",
            " 'Single Male' '1 Adult Kids']\n",
            "column household_size_desc: ['2' '3' '4' '1' '5+']\n",
            "column kid_category_desc: ['None/Unknown' '1' '2' '3+']\n"
          ]
        }
      ]
    },
    {
      "cell_type": "code",
      "metadata": {
        "id": "4j1qeaBa1R5e"
      },
      "source": [
        "users_lvl_2 = pd.DataFrame(data_train_lvl_2['user_id'].unique())\n",
        "users_lvl_2.columns = ['user_id']\n",
        "\n",
        "# Пока только warm start\n",
        "train_users = data_train_lvl_1['user_id'].unique()\n",
        "users_lvl_2 = users_lvl_2[users_lvl_2['user_id'].isin(train_users)]\n",
        "\n",
        "users_lvl_2['candidates'] = users_lvl_2['user_id'].apply(lambda x: recommender.get_own_recommendations(x, N=50))"
      ],
      "execution_count": 17,
      "outputs": []
    },
    {
      "cell_type": "code",
      "metadata": {
        "colab": {
          "base_uri": "https://localhost:8080/",
          "height": 111
        },
        "id": "YVQ_T-VE2Zt4",
        "outputId": "addd0aa1-73c5-4f50-f71f-ddc8eb16dc9a"
      },
      "source": [
        "users_lvl_2.head(2)"
      ],
      "execution_count": 18,
      "outputs": [
        {
          "output_type": "execute_result",
          "data": {
            "text/html": [
              "<div>\n",
              "<style scoped>\n",
              "    .dataframe tbody tr th:only-of-type {\n",
              "        vertical-align: middle;\n",
              "    }\n",
              "\n",
              "    .dataframe tbody tr th {\n",
              "        vertical-align: top;\n",
              "    }\n",
              "\n",
              "    .dataframe thead th {\n",
              "        text-align: right;\n",
              "    }\n",
              "</style>\n",
              "<table border=\"1\" class=\"dataframe\">\n",
              "  <thead>\n",
              "    <tr style=\"text-align: right;\">\n",
              "      <th></th>\n",
              "      <th>user_id</th>\n",
              "      <th>candidates</th>\n",
              "    </tr>\n",
              "  </thead>\n",
              "  <tbody>\n",
              "    <tr>\n",
              "      <th>0</th>\n",
              "      <td>2070</td>\n",
              "      <td>[1105426, 1097350, 879194, 948640, 928263, 944...</td>\n",
              "    </tr>\n",
              "    <tr>\n",
              "      <th>1</th>\n",
              "      <td>2021</td>\n",
              "      <td>[950935, 1119454, 835578, 863762, 1019142, 102...</td>\n",
              "    </tr>\n",
              "  </tbody>\n",
              "</table>\n",
              "</div>"
            ],
            "text/plain": [
              "   user_id                                         candidates\n",
              "0     2070  [1105426, 1097350, 879194, 948640, 928263, 944...\n",
              "1     2021  [950935, 1119454, 835578, 863762, 1019142, 102..."
            ]
          },
          "metadata": {},
          "execution_count": 18
        }
      ]
    },
    {
      "cell_type": "code",
      "metadata": {
        "colab": {
          "base_uri": "https://localhost:8080/",
          "height": 111
        },
        "id": "HvtAHLYH2cRa",
        "outputId": "7d4a126c-f0ab-4c1b-cab6-16d2a81d118b"
      },
      "source": [
        "data_train_lvl_2.head(2)"
      ],
      "execution_count": 19,
      "outputs": [
        {
          "output_type": "execute_result",
          "data": {
            "text/html": [
              "<div>\n",
              "<style scoped>\n",
              "    .dataframe tbody tr th:only-of-type {\n",
              "        vertical-align: middle;\n",
              "    }\n",
              "\n",
              "    .dataframe tbody tr th {\n",
              "        vertical-align: top;\n",
              "    }\n",
              "\n",
              "    .dataframe thead th {\n",
              "        text-align: right;\n",
              "    }\n",
              "</style>\n",
              "<table border=\"1\" class=\"dataframe\">\n",
              "  <thead>\n",
              "    <tr style=\"text-align: right;\">\n",
              "      <th></th>\n",
              "      <th>user_id</th>\n",
              "      <th>basket_id</th>\n",
              "      <th>day</th>\n",
              "      <th>item_id</th>\n",
              "      <th>quantity</th>\n",
              "      <th>sales_value</th>\n",
              "      <th>store_id</th>\n",
              "      <th>retail_disc</th>\n",
              "      <th>trans_time</th>\n",
              "      <th>week_no</th>\n",
              "      <th>coupon_disc</th>\n",
              "      <th>coupon_match_disc</th>\n",
              "    </tr>\n",
              "  </thead>\n",
              "  <tbody>\n",
              "    <tr>\n",
              "      <th>2104867</th>\n",
              "      <td>2070</td>\n",
              "      <td>40618492260</td>\n",
              "      <td>594</td>\n",
              "      <td>1019940</td>\n",
              "      <td>1</td>\n",
              "      <td>1.00</td>\n",
              "      <td>311</td>\n",
              "      <td>-0.29</td>\n",
              "      <td>40</td>\n",
              "      <td>86</td>\n",
              "      <td>0.0</td>\n",
              "      <td>0.0</td>\n",
              "    </tr>\n",
              "    <tr>\n",
              "      <th>2107468</th>\n",
              "      <td>2021</td>\n",
              "      <td>40618753059</td>\n",
              "      <td>594</td>\n",
              "      <td>840361</td>\n",
              "      <td>1</td>\n",
              "      <td>0.99</td>\n",
              "      <td>443</td>\n",
              "      <td>0.00</td>\n",
              "      <td>101</td>\n",
              "      <td>86</td>\n",
              "      <td>0.0</td>\n",
              "      <td>0.0</td>\n",
              "    </tr>\n",
              "  </tbody>\n",
              "</table>\n",
              "</div>"
            ],
            "text/plain": [
              "         user_id    basket_id  day  ...  week_no  coupon_disc  coupon_match_disc\n",
              "2104867     2070  40618492260  594  ...       86          0.0                0.0\n",
              "2107468     2021  40618753059  594  ...       86          0.0                0.0\n",
              "\n",
              "[2 rows x 12 columns]"
            ]
          },
          "metadata": {},
          "execution_count": 19
        }
      ]
    },
    {
      "cell_type": "code",
      "metadata": {
        "id": "0_lXwaEl2pUP"
      },
      "source": [
        "def add_user_features(data_set, user_features):\n",
        "\n",
        "  cols = data_set[['user_id', 'quantity', 'sales_value', 'day']]\n",
        "  newdf = cols.copy()\n",
        "  # количество покупок и сумма всех покупок\n",
        "  newdf1 = newdf.groupby('user_id').agg({'quantity': 'count', 'sales_value': 'sum'})\n",
        "  # Средний чек\n",
        "  newdf1['check']=newdf1['sales_value']/newdf1['quantity']\n",
        "\n",
        "  newdf2 = newdf.groupby('user_id').agg({'day': 'count', 'quantity': 'sum'})\n",
        "  # среднее количество покупок за раз\n",
        "  newdf2['avg_qnt_day'] = newdf2['quantity']/newdf2['day']\n",
        "  # частота покупок\n",
        "  newdf2['frq'] = newdf2['day']/len(data_train_lvl_1.day.unique())\n",
        "\n",
        "  newdf = newdf2.merge(newdf1, how='left', on='user_id')\n",
        "  cols = newdf[['avg_qnt_day', 'frq', 'sales_value', 'check']]\n",
        "  newdf = cols.copy()\n",
        "\n",
        "  if len(user_features.columns.intersection(newdf.columns)) > 0:\n",
        "    for user_id, row in newdf.iterrows():\n",
        "      user_features.loc[user_features['user_id'] == user_id, 'frq'] = row['frq']\n",
        "      user_features.loc[user_features['user_id'] == user_id, 'user_sales_value'] = row['sales_value']\n",
        "      user_features.loc[user_features['user_id'] == user_id, 'check'] = row['check']\n",
        "      user_features.loc[user_features['user_id'] == user_id, 'chavg_qnt_dayeck'] = row['avg_qnt_day']\n",
        "    return user_features\n",
        "\n",
        "  return user_features.merge(newdf, how='left', on='user_id')"
      ],
      "execution_count": 154,
      "outputs": []
    },
    {
      "cell_type": "code",
      "metadata": {
        "colab": {
          "base_uri": "https://localhost:8080/",
          "height": 111
        },
        "id": "fd5HUNmjuc26",
        "outputId": "95b0a593-9fad-43c1-fdf2-cd2a6411895d"
      },
      "source": [
        "user_features_ext = add_user_features(data_train_lvl_2, user_features)\n",
        "user_features_ext = add_user_features(data_val_lvl_2, user_features_ext)\n",
        "\n",
        "user_features_ext.head(2)"
      ],
      "execution_count": 155,
      "outputs": [
        {
          "output_type": "execute_result",
          "data": {
            "text/html": [
              "<div>\n",
              "<style scoped>\n",
              "    .dataframe tbody tr th:only-of-type {\n",
              "        vertical-align: middle;\n",
              "    }\n",
              "\n",
              "    .dataframe tbody tr th {\n",
              "        vertical-align: top;\n",
              "    }\n",
              "\n",
              "    .dataframe thead th {\n",
              "        text-align: right;\n",
              "    }\n",
              "</style>\n",
              "<table border=\"1\" class=\"dataframe\">\n",
              "  <thead>\n",
              "    <tr style=\"text-align: right;\">\n",
              "      <th></th>\n",
              "      <th>age_desc</th>\n",
              "      <th>marital_status_code</th>\n",
              "      <th>income_desc</th>\n",
              "      <th>homeowner_desc</th>\n",
              "      <th>hh_comp_desc</th>\n",
              "      <th>household_size_desc</th>\n",
              "      <th>kid_category_desc</th>\n",
              "      <th>user_id</th>\n",
              "      <th>avg_qnt_day</th>\n",
              "      <th>frq</th>\n",
              "      <th>sales_value</th>\n",
              "      <th>check</th>\n",
              "      <th>user_sales_value</th>\n",
              "      <th>chavg_qnt_dayeck</th>\n",
              "    </tr>\n",
              "  </thead>\n",
              "  <tbody>\n",
              "    <tr>\n",
              "      <th>0</th>\n",
              "      <td>65+</td>\n",
              "      <td>A</td>\n",
              "      <td>35-49K</td>\n",
              "      <td>Homeowner</td>\n",
              "      <td>2 Adults No Kids</td>\n",
              "      <td>2</td>\n",
              "      <td>None/Unknown</td>\n",
              "      <td>1</td>\n",
              "      <td>1.112782</td>\n",
              "      <td>0.138280</td>\n",
              "      <td>341.78</td>\n",
              "      <td>2.440488</td>\n",
              "      <td>200.12</td>\n",
              "      <td>1.134146</td>\n",
              "    </tr>\n",
              "    <tr>\n",
              "      <th>1</th>\n",
              "      <td>45-54</td>\n",
              "      <td>A</td>\n",
              "      <td>50-74K</td>\n",
              "      <td>Homeowner</td>\n",
              "      <td>2 Adults No Kids</td>\n",
              "      <td>2</td>\n",
              "      <td>None/Unknown</td>\n",
              "      <td>7</td>\n",
              "      <td>1.288889</td>\n",
              "      <td>0.220911</td>\n",
              "      <td>187.65</td>\n",
              "      <td>2.653130</td>\n",
              "      <td>347.56</td>\n",
              "      <td>1.259542</td>\n",
              "    </tr>\n",
              "  </tbody>\n",
              "</table>\n",
              "</div>"
            ],
            "text/plain": [
              "  age_desc marital_status_code  ... user_sales_value chavg_qnt_dayeck\n",
              "0      65+                   A  ...           200.12         1.134146\n",
              "1    45-54                   A  ...           347.56         1.259542\n",
              "\n",
              "[2 rows x 14 columns]"
            ]
          },
          "metadata": {},
          "execution_count": 155
        }
      ]
    },
    {
      "cell_type": "code",
      "metadata": {
        "colab": {
          "base_uri": "https://localhost:8080/"
        },
        "id": "af7d7Zp5yKQy",
        "outputId": "05076d95-138e-4b38-c349-641e717b2868"
      },
      "source": [
        "for col in item_features.columns:\n",
        "  if col != 'item_id':\n",
        "    print(f'column {col}: {item_features[col].unique()}')"
      ],
      "execution_count": 21,
      "outputs": [
        {
          "output_type": "stream",
          "name": "stdout",
          "text": [
            "column manufacturer: [   2   69   16 ... 2748 4868 2227]\n",
            "column department: ['GROCERY' 'MISC. TRANS.' 'PASTRY' 'DRUG GM' 'MEAT-PCKGD' 'SEAFOOD-PCKGD'\n",
            " 'PRODUCE' 'NUTRITION' 'DELI' 'COSMETICS' 'MEAT' 'FLORAL'\n",
            " 'TRAVEL & LEISUR' 'SEAFOOD' 'MISC SALES TRAN' 'SALAD BAR' 'KIOSK-GAS'\n",
            " 'ELECT &PLUMBING' 'GRO BAKERY' 'GM MERCH EXP' 'FROZEN GROCERY'\n",
            " 'COUP/STR & MFG' 'SPIRITS' 'GARDEN CENTER' 'TOYS' 'CHARITABLE CONT'\n",
            " 'RESTAURANT' 'RX' 'PROD-WHS SALES' 'MEAT-WHSE' 'DAIRY DELI' 'CHEF SHOPPE'\n",
            " 'HBC' 'DELI/SNACK BAR' 'PORK' 'AUTOMOTIVE' 'VIDEO RENTAL' ' '\n",
            " 'CNTRL/STORE SUP' 'HOUSEWARES' 'POSTAL CENTER' 'PHOTO' 'VIDEO'\n",
            " 'PHARMACY SUPPLY']\n",
            "column brand: ['National' 'Private']\n",
            "column commodity_desc: ['FRZN ICE' 'NO COMMODITY DESCRIPTION' 'BREAD' 'FRUIT - SHELF STABLE'\n",
            " 'COOKIES/CONES' 'SPICES & EXTRACTS' 'VITAMINS' 'BREAKFAST SWEETS'\n",
            " 'PNT BTR/JELLY/JAMS' 'ICE CREAM/MILK/SHERBTS' 'MAGAZINE' 'AIR CARE'\n",
            " 'CHEESE' 'SHORTENING/OIL' 'COFFEE' 'DIETARY AID PRODUCTS'\n",
            " 'PAPER HOUSEWARES' 'BAKED BREAD/BUNS/ROLLS' 'VEGETABLES - SHELF STABLE'\n",
            " 'HISPANIC' 'DINNER MXS:DRY' 'CONDIMENTS/SAUCES' 'FRZN VEGETABLE/VEG DSH'\n",
            " 'BAKING NEEDS' 'DINNER SAUSAGE' 'FRZN FRUITS' 'SEAFOOD - FROZEN'\n",
            " 'HOUSEHOLD CLEANG NEEDS' 'FD WRAPS/BAGS/TRSH BG' 'DRY MIX DESSERTS'\n",
            " 'PICKLE/RELISH/PKLD VEG' 'CAKES' 'BAKING MIXES' 'POTATOES'\n",
            " 'FLUID MILK PRODUCTS' 'SOUP' 'BAKED SWEET GOODS' 'COOKIES'\n",
            " 'DRY BN/VEG/POTATO/RICE' 'FACIAL TISS/DNR NAPKIN' 'FROZEN PIZZA' 'EGGS'\n",
            " 'REFRGRATD DOUGH PRODUCTS' 'HOT CEREAL' 'COLD CEREAL' 'SUGARS/SWEETNERS'\n",
            " 'SEAFOOD - SHELF STABLE' 'POPCORN' 'CANNED JUICES'\n",
            " 'STATIONERY & SCHOOL SUPPLIES' 'COLD AND FLU' 'BABY HBC' 'BAG SNACKS'\n",
            " 'BEANS - CANNED GLASS & MW' 'FROZEN MEAT' 'SOAP - LIQUID & BAR' 'ROLLS'\n",
            " 'NON-DAIRY BEVERAGES' 'KITCHEN GADGETS' 'CRACKERS/MISC BKD FD'\n",
            " 'CONVENIENT BRKFST/WHLSM SNACKS' 'CHIPS&SNACKS' 'CANDY - PACKAGED'\n",
            " 'SOFT DRINKS' 'HAIR CARE PRODUCTS' 'CANDY - CHECKLANE' 'BUTTER'\n",
            " 'FRZN MEAT/MEAT DINNERS' 'SHAVING CARE PRODUCTS'\n",
            " 'WATER - CARBONATED/FLVRD DRINK' 'FRZN BREAKFAST FOODS'\n",
            " 'MILK BY-PRODUCTS' 'FIRST AID PRODUCTS' 'NEWSPAPER' 'SALADS/DIPS'\n",
            " 'INSECTICIDES' 'ORGANICS FRUIT & VEGETABLES' 'ELECTRICAL SUPPPLIES'\n",
            " 'LAUNDRY DETERGENTS' 'JUICE' 'ISOTONIC DRINKS' 'FRZN JCE CONC/DRNKS'\n",
            " 'LAUNDRY ADDITIVES' 'IRONING AND CHEMICALS' 'TEAS' 'DRY NOODLES/PASTA'\n",
            " 'PASTA SAUCE' 'PROCESSED' 'MAKEUP AND TREATMENT' 'ANALGESICS'\n",
            " 'HOSIERY/SOCKS' 'CAT FOOD' 'BATTERIES' 'MOLASSES/SYRUP/PANCAKE MIXS'\n",
            " 'BOOKSTORE' 'BATH TISSUES' 'FROZEN PIE/DESSERTS' 'MEAT - SHELF STABLE'\n",
            " 'MEAT - MISC' 'SPRING/SUMMER SEASONAL' 'LUNCHMEAT'\n",
            " 'BREAKFAST SAUSAGE/SANDWICHES' 'DRIED FRUIT' 'CHARCOAL AND LIGHTER FLUID'\n",
            " 'SALD DRSNG/SNDWCH SPRD' 'LIQUOR' 'FROZEN BREAD/DOUGH'\n",
            " 'HAND/BODY/FACIAL PRODUCTS' 'SNACK NUTS' 'ORAL HYGIENE PRODUCTS'\n",
            " 'BEERS/ALES' 'INFANT FORMULA' 'REFRGRATD JUICES/DRNKS' 'YOGURT'\n",
            " 'DEODORANTS' 'BACON' 'DOG FOODS' 'FRZN NOVELTIES/WTR ICE'\n",
            " 'FEMININE HYGIENE' 'COFFEE FILTERS' 'BROOMS AND MOPS'\n",
            " 'GREETING CARDS/WRAP/PARTY SPLY' 'WAREHOUSE SNACKS' 'DRY SAUCES/GRAVY'\n",
            " 'MARGARINES' 'PWDR/CRYSTL DRNK MX' 'OLIVES' 'MISC. DAIRY' 'COCOA MIXES'\n",
            " 'SALAD MIX' 'HARDWARE SUPPLIES' 'HOT DOGS' 'FLOUR & MEALS'\n",
            " 'SYRUPS/TOPPINGS' 'ANTACIDS' 'BLEACH' 'PAPER TOWELS' 'STONE FRUIT'\n",
            " 'MELONS' 'BERRIES' 'CHICKEN' 'SANDWICHES' 'GRAPES' 'CARROTS' 'APPLES'\n",
            " 'HERBS' 'CIGARETTES' 'HEAT/SERVE' 'BABY FOODS' 'SQUASH'\n",
            " 'VEGETABLES - ALL OTHERS' 'DELI MEATS' 'BEEF' 'FRZN POTATOES' 'CORN'\n",
            " 'CHEESES' 'MISCELLANEOUS' 'CITRUS' 'FROZEN' 'DISHWASH DETERGENTS'\n",
            " 'SWEET GOODS & SNACKS' 'NUTS' 'TROPICAL FRUIT' 'CHICKEN/POULTRY'\n",
            " 'BROCCOLI/CAULIFLOWER' 'SINUS AND ALLERGY' 'MUSHROOMS' 'CANNED MILK'\n",
            " 'ONIONS' 'INFANT CARE PRODUCTS' 'TURKEY' 'WATER' 'CAT LITTER'\n",
            " 'SEAFOOD-FRESH' 'PIES' 'TOBACCO OTHER' 'SEAFOOD - MISC'\n",
            " 'FILM AND CAMERA PRODUCTS' 'PEPPERS-ALL' 'PLASTIC HOUSEWARES'\n",
            " 'FOOT CARE PRODUCTS' 'SHOE CARE' 'FIREWORKS' 'FLORAL-FLOWERING PLANTS'\n",
            " 'SUNTAN' 'CEREAL/BREAKFAST' 'CANDLES/ACCESSORIES' 'COOKWARE & BAKEWARE'\n",
            " 'DISPOSIBLE FOILWARE' 'FLORAL-FRESH CUT' 'VEGETABLES SALAD'\n",
            " 'AUDIO/VIDEO PRODUCTS' 'REFRIGERATED' 'FROZEN CHICKEN' 'SMOKED MEATS'\n",
            " 'VALUE ADDED VEGETABLES' 'EYE AND EAR CARE PRODUCTS'\n",
            " 'SNKS/CKYS/CRKR/CNDY' 'FLORAL BALLOONS' 'AUTOMOTIVE PRODUCTS' 'LAXATIVES'\n",
            " 'DOMESTIC WINE' 'MISC WINE' 'OVERNIGHT PHOTOFINISHING' 'TOMATOES' 'PEARS'\n",
            " 'FITNESS&DIET' 'BATH' 'COUPON/MISC ITEMS' 'PORK'\n",
            " 'PERSONAL CARE APPLIANCES' 'CONDIMENTS' 'BEVERAGE' 'SNACKS'\n",
            " 'VALUE ADDED FRUIT' 'SALAD BAR' 'HAIR CARE ACCESSORIES'\n",
            " 'DIAPERS & DISPOSABLES' 'SMOKING CESSATIONS' 'FUEL' 'PREPARED FOOD'\n",
            " 'PET CARE SUPPLIES' 'COFFEE SHOP' 'COUPON' '(CORP USE ONLY)' 'ROSES'\n",
            " 'PROD SUPPLIES' 'J-HOOKS' 'RICE CAKES' 'LAMB' 'IMPORTED WINE' 'UNKNOWN'\n",
            " 'DELI SPECIALTIES (RETAIL PK)' 'PREPARED/PKGD FOODS' 'FAMILY PLANNING'\n",
            " 'EASTER' 'CIGARS' 'PACKAGED NATURAL SNACKS' 'FLORAL-FOLIAGE PLANTS'\n",
            " 'MISCELLANEOUS CROUTONS' 'COUPONS/STORE & MFG' 'APPAREL'\n",
            " 'PREPAID WIRELESS&ACCESSORIES' 'HOME FREEZING & CANNING SUPPLY'\n",
            " 'IN-STORE PHOTOFINISHING' 'ADULT INCONTINENCE' 'PARTY TRAYS'\n",
            " 'DOMESTIC GOODS' 'FALL AND WINTER SEASONAL' 'TOYS AND GAMES'\n",
            " 'LAWN AND GARDEN SHOP' 'GLASSWARE & DINNERWARE' 'BAKING'\n",
            " 'RESTRICTED DIET' 'FRAGRANCES' 'HALLOWEEN' 'BAKERY PARTY TRAYS' 'SEWING'\n",
            " 'NATURAL HBC' 'BIRD SEED' 'GARDEN CENTER' 'COSMETIC ACCESSORIES'\n",
            " 'ETHNIC PERSONAL CARE' 'GLASSES/VISION AIDS' 'FLORAL- HARD GOODS'\n",
            " 'BABYFOOD' 'TOYS' 'CHRISTMAS  SEASONAL' 'COFFEE SHOP SWEET GOODS&RETAIL'\n",
            " 'DRY TEA/COFFEE/COCO MIX' 'VEAL' 'CONTINUITIES'\n",
            " 'PORTABLE ELECTRIC APPLIANCES' 'VALENTINE' 'FROZEN - BOXED(GROCERY)'\n",
            " 'SERVICE BEVERAGE' 'GIFT & FRUIT BASKETS' 'SUSHI' 'PROPANE'\n",
            " 'FRZN SEAFOOD' 'HOME FURNISHINGS' 'PHARMACY' 'NATURAL VITAMINS'\n",
            " 'DELI SUPPLIES' 'WATCHES/CALCULATORS/LOBBY' 'SEASONAL'\n",
            " 'BOUQUET (NON ROSE)' 'HOME HEALTH CARE' 'RW FRESH PROCESSED MEAT'\n",
            " 'EXOTIC GAME/FOWL' 'NDAIRY/TEAS/JUICE/SOD' 'TICKETS' 'MEAT SUPPLIES'\n",
            " 'NEW AGE' 'FLORAL-ACCESSORIES' 'EASTER LILY' 'MISCELLANEOUS HBC'\n",
            " 'BULK FOODS' 'NON EDIBLE PRODUCTS' 'QUICK SERVICE' 'BOTTLE DEPOSITS' ' '\n",
            " 'DOLLAR VALUE PRODUCTS' 'MISCELLANEOUS(CORP USE ONLY)'\n",
            " 'SPORTS MEMORABLILIA' 'LONG DISTANCE CALLING CARDS' 'PKG.SEAFOOD MISC'\n",
            " 'FROZEN PACKAGE MEAT']\n",
            "column sub_commodity_desc: ['ICE - CRUSHED/CUBED' 'NO SUBCOMMODITY DESCRIPTION'\n",
            " 'BREAD:ITALIAN/FRENCH' ... 'SEMI MOIST CAT FOOD: BOX' 'BERRIES OTHER'\n",
            " 'ROSES OTHER']\n",
            "column curr_size_of_product: ['22 LB' ' ' '50 OZ' ... '6.3 IN' '35 LD' '2 LTR PET']\n"
          ]
        }
      ]
    },
    {
      "cell_type": "code",
      "metadata": {
        "id": "yqXSV6D0AWSZ"
      },
      "source": [
        "def add_items_features(data_set, item_features):\n",
        "  cols = data_set[['item_id', 'quantity', 'sales_value', 'week_no']]\n",
        "  newdf = cols.copy()\n",
        "\n",
        "# Сколько всего продали такого товара и на какую сумму\n",
        "  newdf1 = newdf.groupby('item_id').agg({'quantity': 'sum', 'sales_value': 'sum'})\n",
        "  newdf2 = newdf.groupby('item_id').agg({'week_no': 'count', 'quantity':'sum'})\n",
        "# Среднее количество товаров, продаваемое в неделю\n",
        "  newdf2['avg_qnt_week'] = newdf2['week_no']/newdf2['quantity']\n",
        "  newdf2.drop(['quantity', 'week_no'], axis=1, inplace=True);\n",
        "  newdf2 = newdf1.merge(newdf2, how='left', on='item_id')\n",
        "\n",
        "  if len(item_features.columns.intersection(newdf2.columns)) > 0:\n",
        "    for item_id, row in newdf2.iterrows():\n",
        "        item_features.loc[item_features['item_id'] == item_id, 'item_quantity'] = row['quantity']\n",
        "        item_features.loc[item_features['item_id'] == item_id, 'item_sales_value'] = row['sales_value']\n",
        "        item_features.loc[item_features['item_id'] == item_id, 'avg_qnt_week'] = row['avg_qnt_week']\n",
        "    return item_features\n",
        "\n",
        "  return item_features.merge(newdf2, how='left', on='item_id')\n"
      ],
      "execution_count": 153,
      "outputs": []
    },
    {
      "cell_type": "code",
      "metadata": {
        "colab": {
          "base_uri": "https://localhost:8080/",
          "height": 111
        },
        "id": "phT_SOkjvdue",
        "outputId": "03d9f709-819b-461a-8d4e-d99a3053c85a"
      },
      "source": [
        "item_features_ext = add_items_features(data_train_lvl_2, item_features)\n",
        "item_features_ext = add_items_features(data_val_lvl_2, item_features_ext)\n",
        "\n",
        "item_features_ext.query('item_id in @data_val_lvl_2.item_id').head(2)"
      ],
      "execution_count": 61,
      "outputs": [
        {
          "output_type": "execute_result",
          "data": {
            "text/html": [
              "<div>\n",
              "<style scoped>\n",
              "    .dataframe tbody tr th:only-of-type {\n",
              "        vertical-align: middle;\n",
              "    }\n",
              "\n",
              "    .dataframe tbody tr th {\n",
              "        vertical-align: top;\n",
              "    }\n",
              "\n",
              "    .dataframe thead th {\n",
              "        text-align: right;\n",
              "    }\n",
              "</style>\n",
              "<table border=\"1\" class=\"dataframe\">\n",
              "  <thead>\n",
              "    <tr style=\"text-align: right;\">\n",
              "      <th></th>\n",
              "      <th>item_id</th>\n",
              "      <th>manufacturer</th>\n",
              "      <th>department</th>\n",
              "      <th>brand</th>\n",
              "      <th>commodity_desc</th>\n",
              "      <th>sub_commodity_desc</th>\n",
              "      <th>curr_size_of_product</th>\n",
              "      <th>quantity</th>\n",
              "      <th>sales_value</th>\n",
              "      <th>avg_qnt</th>\n",
              "    </tr>\n",
              "  </thead>\n",
              "  <tbody>\n",
              "    <tr>\n",
              "      <th>107</th>\n",
              "      <td>29512</td>\n",
              "      <td>69</td>\n",
              "      <td>GROCERY</td>\n",
              "      <td>Private</td>\n",
              "      <td>CANNED JUICES</td>\n",
              "      <td>TOMATO JUICE (OVER 50% JCE)</td>\n",
              "      <td>46 OZ</td>\n",
              "      <td>1.0</td>\n",
              "      <td>0.99</td>\n",
              "      <td>1.0</td>\n",
              "    </tr>\n",
              "    <tr>\n",
              "      <th>131</th>\n",
              "      <td>30356</td>\n",
              "      <td>69</td>\n",
              "      <td>DRUG GM</td>\n",
              "      <td>Private</td>\n",
              "      <td>KITCHEN GADGETS</td>\n",
              "      <td>GADGETS/TOOLS</td>\n",
              "      <td></td>\n",
              "      <td>1.0</td>\n",
              "      <td>2.39</td>\n",
              "      <td>1.0</td>\n",
              "    </tr>\n",
              "  </tbody>\n",
              "</table>\n",
              "</div>"
            ],
            "text/plain": [
              "     item_id  manufacturer department  ... quantity sales_value avg_qnt\n",
              "107    29512            69    GROCERY  ...      1.0        0.99     1.0\n",
              "131    30356            69    DRUG GM  ...      1.0        2.39     1.0\n",
              "\n",
              "[2 rows x 10 columns]"
            ]
          },
          "metadata": {},
          "execution_count": 61
        }
      ]
    },
    {
      "cell_type": "code",
      "metadata": {
        "id": "PVp9Hwy37ScC"
      },
      "source": [
        "# Расчет фичей покупатель/товар\n",
        "# Кол-во покупок юзером конкретной категории в неделю. Категория MEAT\n",
        "# \n",
        "feat1 = data_train_lvl_2.merge(item_features, how=\"inner\", on=\"item_id\")[['item_id', 'user_id', 'quantity', 'department', 'week_no']]\n",
        "meat_only=feat1.query('department == \"MEAT\"')\n",
        "feat1 = meat_only.groupby(['item_id', 'user_id', 'week_no']).agg({'quantity': 'sum'})\n",
        "feat2 = meat_only.groupby(['item_id']).agg({'week_no': 'count', 'quantity': 'sum'})\n",
        "feat1.rename(columns = {'quantity': 'avg_meat'}, inplace=True)\n",
        "# Среднее кол-во покупок всеми юзерами конкретной категории в неделю. Категория MEAT\n",
        "feat2['avg_cnt'] = feat2['quantity']/feat2['week_no']\n",
        "\n",
        "train_lvl_2 = data_train_lvl_2.merge(feat1, how=\"left\", on=['item_id','user_id','week_no'])\n",
        "for index, row in feat2.iterrows():\n",
        "# (Кол-во покупок юзером конкретной категории в неделю) / (Среднее кол-во покупок всеми юзерами конкретной категории в неделю). Категория MEAT\n",
        "  train_lvl_2['avg_meat_by_week'] = train_lvl_2.loc[train_lvl_2['item_id'] == index, 'avg_meat']/row['avg_cnt']\n",
        "  train_lvl_2.loc[train_lvl_2['item_id'] == index, 'avg_cnt'] = row['avg_cnt']\n",
        "\n",
        "feat1 = data_val_lvl_2.merge(item_features, how=\"inner\", on=\"item_id\")[['item_id', 'user_id', 'quantity', 'department', 'week_no']]\n",
        "meat_only=feat1.query('department == \"MEAT\"')\n",
        "feat1 = meat_only.groupby(['item_id', 'user_id', 'week_no']).agg({'quantity': 'sum'})\n",
        "feat2 = meat_only.groupby(['item_id']).agg({'week_no': 'count', 'quantity': 'sum'})\n",
        "feat1.rename(columns = {'quantity': 'avg_meat'}, inplace=True)\n",
        "# Среднее кол-во покупок всеми юзерами конкретной категории в неделю. Категория MEAT\n",
        "feat2['avg_cnt'] = feat2['quantity']/feat2['week_no']\n",
        "\n",
        "val_lvl_2 = data_val_lvl_2.merge(feat1, how=\"left\", on=['item_id','user_id','week_no'])\n",
        "for index, row in feat2.iterrows():\n",
        "# (Кол-во покупок юзером конкретной категории в неделю) / (Среднее кол-во покупок всеми юзерами конкретной категории в неделю). Категория MEAT\n",
        "  val_lvl_2.loc[val_lvl_2['item_id'] == index, 'avg_meat_by_week'] = val_lvl_2.loc[val_lvl_2['item_id'] == index, 'avg_meat']/row['avg_cnt']\n",
        "  val_lvl_2.loc[val_lvl_2['item_id'] == index, 'avg_cnt'] = row['avg_cnt']\n"
      ],
      "execution_count": 144,
      "outputs": []
    },
    {
      "cell_type": "code",
      "metadata": {
        "colab": {
          "base_uri": "https://localhost:8080/"
        },
        "id": "TXkgw8CbMrh9",
        "outputId": "85079e8a-2da7-45d3-d035-2170c4b9580d"
      },
      "source": [
        "print(val_lvl_2.query('item_id==17104265'))"
      ],
      "execution_count": 137,
      "outputs": [
        {
          "output_type": "stream",
          "name": "stdout",
          "text": [
            "       user_id    basket_id  day  ...  avg_meat  avg_meat_by_week  avg_cnt\n",
            "55331      132  41466761472  650  ...       1.0               1.0      1.0\n",
            "\n",
            "[1 rows x 15 columns]\n"
          ]
        }
      ]
    },
    {
      "cell_type": "code",
      "metadata": {
        "colab": {
          "base_uri": "https://localhost:8080/",
          "height": 173
        },
        "id": "pAepUBZqPZja",
        "outputId": "f346d66d-f2ef-438c-c4bd-11a35fd6c8dc"
      },
      "source": [
        "s = users_lvl_2.apply(lambda x: pd.Series(x['candidates']), axis=1).stack().reset_index(level=1, drop=True)\n",
        "s.name = 'item_id'\n",
        "\n",
        "users_lvl_2 = users_lvl_2.drop('candidates', axis=1).join(s)\n",
        "users_lvl_2['flag'] = 1\n",
        "\n",
        "users_lvl_2.head(4)"
      ],
      "execution_count": 138,
      "outputs": [
        {
          "output_type": "execute_result",
          "data": {
            "text/html": [
              "<div>\n",
              "<style scoped>\n",
              "    .dataframe tbody tr th:only-of-type {\n",
              "        vertical-align: middle;\n",
              "    }\n",
              "\n",
              "    .dataframe tbody tr th {\n",
              "        vertical-align: top;\n",
              "    }\n",
              "\n",
              "    .dataframe thead th {\n",
              "        text-align: right;\n",
              "    }\n",
              "</style>\n",
              "<table border=\"1\" class=\"dataframe\">\n",
              "  <thead>\n",
              "    <tr style=\"text-align: right;\">\n",
              "      <th></th>\n",
              "      <th>user_id</th>\n",
              "      <th>item_id</th>\n",
              "      <th>flag</th>\n",
              "    </tr>\n",
              "  </thead>\n",
              "  <tbody>\n",
              "    <tr>\n",
              "      <th>0</th>\n",
              "      <td>2070</td>\n",
              "      <td>1105426</td>\n",
              "      <td>1</td>\n",
              "    </tr>\n",
              "    <tr>\n",
              "      <th>0</th>\n",
              "      <td>2070</td>\n",
              "      <td>1097350</td>\n",
              "      <td>1</td>\n",
              "    </tr>\n",
              "    <tr>\n",
              "      <th>0</th>\n",
              "      <td>2070</td>\n",
              "      <td>879194</td>\n",
              "      <td>1</td>\n",
              "    </tr>\n",
              "    <tr>\n",
              "      <th>0</th>\n",
              "      <td>2070</td>\n",
              "      <td>948640</td>\n",
              "      <td>1</td>\n",
              "    </tr>\n",
              "  </tbody>\n",
              "</table>\n",
              "</div>"
            ],
            "text/plain": [
              "   user_id  item_id  flag\n",
              "0     2070  1105426     1\n",
              "0     2070  1097350     1\n",
              "0     2070   879194     1\n",
              "0     2070   948640     1"
            ]
          },
          "metadata": {},
          "execution_count": 138
        }
      ]
    },
    {
      "cell_type": "code",
      "metadata": {
        "id": "a11B2bKAPqb-"
      },
      "source": [
        "targets_lvl_2 = train_lvl_2[['user_id', 'item_id', 'avg_meat', 'avg_meat_by_week', 'avg_cnt']].copy()\n",
        "targets_lvl_2['target'] = 1  # тут только покупки \n",
        "\n",
        "targets_lvl_2 = users_lvl_2.merge(targets_lvl_2, on=['user_id', 'item_id'], how='left')\n",
        "\n",
        "targets_lvl_2['target'].fillna(0, inplace= True)\n",
        "targets_lvl_2.drop('flag', axis=1, inplace=True)"
      ],
      "execution_count": 156,
      "outputs": []
    },
    {
      "cell_type": "code",
      "metadata": {
        "colab": {
          "base_uri": "https://localhost:8080/",
          "height": 165
        },
        "id": "1V4oEmXlPkJ0",
        "outputId": "23617f5b-12ea-4e80-83c4-98fc549a5744"
      },
      "source": [
        "targets_lvl_2 = targets_lvl_2.merge(item_features_ext, on='item_id', how='left')\n",
        "targets_lvl_2 = targets_lvl_2.merge(user_features_ext, on='user_id', how='left')\n",
        "\n",
        "targets_lvl_2.head(2)"
      ],
      "execution_count": 157,
      "outputs": [
        {
          "output_type": "execute_result",
          "data": {
            "text/html": [
              "<div>\n",
              "<style scoped>\n",
              "    .dataframe tbody tr th:only-of-type {\n",
              "        vertical-align: middle;\n",
              "    }\n",
              "\n",
              "    .dataframe tbody tr th {\n",
              "        vertical-align: top;\n",
              "    }\n",
              "\n",
              "    .dataframe thead th {\n",
              "        text-align: right;\n",
              "    }\n",
              "</style>\n",
              "<table border=\"1\" class=\"dataframe\">\n",
              "  <thead>\n",
              "    <tr style=\"text-align: right;\">\n",
              "      <th></th>\n",
              "      <th>user_id</th>\n",
              "      <th>item_id</th>\n",
              "      <th>avg_meat</th>\n",
              "      <th>avg_meat_by_week</th>\n",
              "      <th>avg_cnt</th>\n",
              "      <th>target</th>\n",
              "      <th>manufacturer</th>\n",
              "      <th>department</th>\n",
              "      <th>brand</th>\n",
              "      <th>commodity_desc</th>\n",
              "      <th>sub_commodity_desc</th>\n",
              "      <th>curr_size_of_product</th>\n",
              "      <th>quantity</th>\n",
              "      <th>sales_value_x</th>\n",
              "      <th>avg_qnt</th>\n",
              "      <th>age_desc</th>\n",
              "      <th>marital_status_code</th>\n",
              "      <th>income_desc</th>\n",
              "      <th>homeowner_desc</th>\n",
              "      <th>hh_comp_desc</th>\n",
              "      <th>household_size_desc</th>\n",
              "      <th>kid_category_desc</th>\n",
              "      <th>avg_qnt_day</th>\n",
              "      <th>frq</th>\n",
              "      <th>sales_value_y</th>\n",
              "      <th>check</th>\n",
              "      <th>user_sales_value</th>\n",
              "      <th>chavg_qnt_dayeck</th>\n",
              "    </tr>\n",
              "  </thead>\n",
              "  <tbody>\n",
              "    <tr>\n",
              "      <th>0</th>\n",
              "      <td>2070</td>\n",
              "      <td>1105426</td>\n",
              "      <td>NaN</td>\n",
              "      <td>NaN</td>\n",
              "      <td>NaN</td>\n",
              "      <td>0.0</td>\n",
              "      <td>69</td>\n",
              "      <td>DELI</td>\n",
              "      <td>Private</td>\n",
              "      <td>SANDWICHES</td>\n",
              "      <td>SANDWICHES - (COLD)</td>\n",
              "      <td></td>\n",
              "      <td>5.0</td>\n",
              "      <td>17.96</td>\n",
              "      <td>0.8</td>\n",
              "      <td>45-54</td>\n",
              "      <td>U</td>\n",
              "      <td>50-74K</td>\n",
              "      <td>Unknown</td>\n",
              "      <td>Unknown</td>\n",
              "      <td>1</td>\n",
              "      <td>None/Unknown</td>\n",
              "      <td>86.029412</td>\n",
              "      <td>0.706577</td>\n",
              "      <td>617.29</td>\n",
              "      <td>2.928401</td>\n",
              "      <td>1227.0</td>\n",
              "      <td>26.00716</td>\n",
              "    </tr>\n",
              "    <tr>\n",
              "      <th>1</th>\n",
              "      <td>2070</td>\n",
              "      <td>1097350</td>\n",
              "      <td>NaN</td>\n",
              "      <td>NaN</td>\n",
              "      <td>NaN</td>\n",
              "      <td>0.0</td>\n",
              "      <td>2468</td>\n",
              "      <td>GROCERY</td>\n",
              "      <td>National</td>\n",
              "      <td>DOMESTIC WINE</td>\n",
              "      <td>VALUE GLASS WINE</td>\n",
              "      <td>4 LTR</td>\n",
              "      <td>1.0</td>\n",
              "      <td>10.99</td>\n",
              "      <td>1.0</td>\n",
              "      <td>45-54</td>\n",
              "      <td>U</td>\n",
              "      <td>50-74K</td>\n",
              "      <td>Unknown</td>\n",
              "      <td>Unknown</td>\n",
              "      <td>1</td>\n",
              "      <td>None/Unknown</td>\n",
              "      <td>86.029412</td>\n",
              "      <td>0.706577</td>\n",
              "      <td>617.29</td>\n",
              "      <td>2.928401</td>\n",
              "      <td>1227.0</td>\n",
              "      <td>26.00716</td>\n",
              "    </tr>\n",
              "  </tbody>\n",
              "</table>\n",
              "</div>"
            ],
            "text/plain": [
              "   user_id  item_id  avg_meat  ...     check  user_sales_value  chavg_qnt_dayeck\n",
              "0     2070  1105426       NaN  ...  2.928401            1227.0          26.00716\n",
              "1     2070  1097350       NaN  ...  2.928401            1227.0          26.00716\n",
              "\n",
              "[2 rows x 28 columns]"
            ]
          },
          "metadata": {},
          "execution_count": 157
        }
      ]
    },
    {
      "cell_type": "code",
      "metadata": {
        "colab": {
          "base_uri": "https://localhost:8080/"
        },
        "id": "51eld4EbVLTc",
        "outputId": "1672ae45-878b-45f2-b012-54c13773ce6e"
      },
      "source": [
        "targets_lvl_2.info()"
      ],
      "execution_count": 165,
      "outputs": [
        {
          "output_type": "stream",
          "name": "stdout",
          "text": [
            "<class 'pandas.core.frame.DataFrame'>\n",
            "Int64Index: 111313 entries, 0 to 111312\n",
            "Data columns (total 28 columns):\n",
            " #   Column                Non-Null Count   Dtype  \n",
            "---  ------                --------------   -----  \n",
            " 0   user_id               111313 non-null  int64  \n",
            " 1   item_id               111313 non-null  int64  \n",
            " 2   avg_meat              503 non-null     float64\n",
            " 3   avg_meat_by_week      0 non-null       float64\n",
            " 4   avg_cnt               503 non-null     float64\n",
            " 5   target                111313 non-null  float64\n",
            " 6   manufacturer          111313 non-null  int64  \n",
            " 7   department            111313 non-null  object \n",
            " 8   brand                 111313 non-null  object \n",
            " 9   commodity_desc        111313 non-null  object \n",
            " 10  sub_commodity_desc    111313 non-null  object \n",
            " 11  curr_size_of_product  111313 non-null  object \n",
            " 12  quantity              104617 non-null  float64\n",
            " 13  sales_value_x         104617 non-null  float64\n",
            " 14  avg_qnt               104617 non-null  float64\n",
            " 15  age_desc              41974 non-null   object \n",
            " 16  marital_status_code   41974 non-null   object \n",
            " 17  income_desc           41974 non-null   object \n",
            " 18  homeowner_desc        41974 non-null   object \n",
            " 19  hh_comp_desc          41974 non-null   object \n",
            " 20  household_size_desc   41974 non-null   object \n",
            " 21  kid_category_desc     41974 non-null   object \n",
            " 22  avg_qnt_day           41974 non-null   float64\n",
            " 23  frq                   41974 non-null   float64\n",
            " 24  sales_value_y         41974 non-null   float64\n",
            " 25  check                 41974 non-null   float64\n",
            " 26  user_sales_value      40453 non-null   float64\n",
            " 27  chavg_qnt_dayeck      40453 non-null   float64\n",
            "dtypes: float64(13), int64(3), object(12)\n",
            "memory usage: 24.6+ MB\n"
          ]
        }
      ]
    },
    {
      "cell_type": "code",
      "metadata": {
        "id": "IuMiEjGDTE_c"
      },
      "source": [
        "X_train = targets_lvl_2.drop('target', axis=1)\n",
        "y_train = targets_lvl_2[['target']]"
      ],
      "execution_count": 158,
      "outputs": []
    },
    {
      "cell_type": "code",
      "metadata": {
        "colab": {
          "base_uri": "https://localhost:8080/"
        },
        "id": "D3_wokyjTO6S",
        "outputId": "19d63242-e691-4410-9833-4f2d6d4edc30"
      },
      "source": [
        "cat_feats = X_train.columns[2:].tolist()\n",
        "X_train[cat_feats] = X_train[cat_feats].astype('category')\n",
        "\n",
        "cat_feats"
      ],
      "execution_count": 160,
      "outputs": [
        {
          "output_type": "execute_result",
          "data": {
            "text/plain": [
              "['avg_meat',\n",
              " 'avg_meat_by_week',\n",
              " 'avg_cnt',\n",
              " 'manufacturer',\n",
              " 'department',\n",
              " 'brand',\n",
              " 'commodity_desc',\n",
              " 'sub_commodity_desc',\n",
              " 'curr_size_of_product',\n",
              " 'quantity',\n",
              " 'sales_value_x',\n",
              " 'avg_qnt',\n",
              " 'age_desc',\n",
              " 'marital_status_code',\n",
              " 'income_desc',\n",
              " 'homeowner_desc',\n",
              " 'hh_comp_desc',\n",
              " 'household_size_desc',\n",
              " 'kid_category_desc',\n",
              " 'avg_qnt_day',\n",
              " 'frq',\n",
              " 'sales_value_y',\n",
              " 'check',\n",
              " 'user_sales_value',\n",
              " 'chavg_qnt_dayeck']"
            ]
          },
          "metadata": {},
          "execution_count": 160
        }
      ]
    },
    {
      "cell_type": "code",
      "metadata": {
        "colab": {
          "base_uri": "https://localhost:8080/"
        },
        "id": "pHNtXg9YTJln",
        "outputId": "2806f4e5-923e-424c-b39d-1b974132c67f"
      },
      "source": [
        "lgb = LGBMClassifier(objective='binary', max_depth=7, categorical_column=cat_feats)\n",
        "lgb.fit(X_train, y_train)\n",
        "\n",
        "train_preds = lgb.predict(X_train)"
      ],
      "execution_count": 161,
      "outputs": [
        {
          "output_type": "stream",
          "name": "stderr",
          "text": [
            "/usr/local/lib/python3.7/dist-packages/sklearn/preprocessing/_label.py:235: DataConversionWarning: A column-vector y was passed when a 1d array was expected. Please change the shape of y to (n_samples, ), for example using ravel().\n",
            "  y = column_or_1d(y, warn=True)\n",
            "/usr/local/lib/python3.7/dist-packages/sklearn/preprocessing/_label.py:268: DataConversionWarning: A column-vector y was passed when a 1d array was expected. Please change the shape of y to (n_samples, ), for example using ravel().\n",
            "  y = column_or_1d(y, warn=True)\n",
            "/usr/local/lib/python3.7/dist-packages/lightgbm/basic.py:762: UserWarning: categorical_feature in param dict is overridden.\n",
            "  warnings.warn('categorical_feature in param dict is overridden.')\n"
          ]
        }
      ]
    },
    {
      "cell_type": "code",
      "metadata": {
        "colab": {
          "base_uri": "https://localhost:8080/"
        },
        "id": "mA_jB66ATdjS",
        "outputId": "3795d885-6510-4f2e-d4b8-dcceef4f67d5"
      },
      "source": [
        "train_preds"
      ],
      "execution_count": 162,
      "outputs": [
        {
          "output_type": "execute_result",
          "data": {
            "text/plain": [
              "array([0., 0., 0., ..., 0., 0., 0.])"
            ]
          },
          "metadata": {},
          "execution_count": 162
        }
      ]
    }
  ]
}