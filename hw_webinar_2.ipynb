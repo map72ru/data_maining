{
  "nbformat": 4,
  "nbformat_minor": 0,
  "metadata": {
    "colab": {
      "name": "hw_webinar_2.ipynb",
      "provenance": [],
      "collapsed_sections": [],
      "include_colab_link": true
    },
    "kernelspec": {
      "display_name": "Python 3",
      "language": "python",
      "name": "python3"
    },
    "language_info": {
      "codemirror_mode": {
        "name": "ipython",
        "version": 3
      },
      "file_extension": ".py",
      "mimetype": "text/x-python",
      "name": "python",
      "nbconvert_exporter": "python",
      "pygments_lexer": "ipython3",
      "version": "3.8.8"
    }
  },
  "cells": [
    {
      "cell_type": "markdown",
      "metadata": {
        "id": "view-in-github",
        "colab_type": "text"
      },
      "source": [
        "<a href=\"https://colab.research.google.com/github/map72ru/data_mining/blob/main/hw_webinar_2.ipynb\" target=\"_parent\"><img src=\"https://colab.research.google.com/assets/colab-badge.svg\" alt=\"Open In Colab\"/></a>"
      ]
    },
    {
      "cell_type": "code",
      "metadata": {
        "colab": {
          "base_uri": "https://localhost:8080/"
        },
        "id": "KEoxBl8TthOI",
        "outputId": "bf5d6b24-dce7-4e29-818b-e2c9b608ede9"
      },
      "source": [
        "!pip install implicit"
      ],
      "execution_count": 1,
      "outputs": [
        {
          "output_type": "stream",
          "name": "stdout",
          "text": [
            "Collecting implicit\n",
            "  Downloading implicit-0.4.8.tar.gz (1.1 MB)\n",
            "\u001b[K     |████████████████████████████████| 1.1 MB 5.1 MB/s \n",
            "\u001b[?25h  Installing build dependencies ... \u001b[?25l\u001b[?25hdone\n",
            "  Getting requirements to build wheel ... \u001b[?25l\u001b[?25hdone\n",
            "  Installing backend dependencies ... \u001b[?25l\u001b[?25hdone\n",
            "    Preparing wheel metadata ... \u001b[?25l\u001b[?25hdone\n",
            "Requirement already satisfied: numpy in /usr/local/lib/python3.7/dist-packages (from implicit) (1.19.5)\n",
            "Requirement already satisfied: tqdm>=4.27 in /usr/local/lib/python3.7/dist-packages (from implicit) (4.62.3)\n",
            "Requirement already satisfied: scipy>=0.16 in /usr/local/lib/python3.7/dist-packages (from implicit) (1.4.1)\n",
            "Building wheels for collected packages: implicit\n",
            "  Building wheel for implicit (PEP 517) ... \u001b[?25l\u001b[?25hdone\n",
            "  Created wheel for implicit: filename=implicit-0.4.8-cp37-cp37m-linux_x86_64.whl size=4606595 sha256=d35b64da7976f5305f7ebf50d3a4dbaf1d7f5d1c3432d1bbd0b8e62743cb469f\n",
            "  Stored in directory: /root/.cache/pip/wheels/88/e6/34/25e73cccbaf1a961154bb562a5f86123b68fdbf40e306073d6\n",
            "Successfully built implicit\n",
            "Installing collected packages: implicit\n",
            "Successfully installed implicit-0.4.8\n"
          ]
        }
      ]
    },
    {
      "cell_type": "code",
      "metadata": {
        "id": "rgIzW-DSC8Yi"
      },
      "source": [
        "import pandas as pd\n",
        "import numpy as np\n",
        "import matplotlib.pyplot as plt\n",
        "%matplotlib inline\n",
        "\n",
        "# Для работы с матрицами\n",
        "from scipy.sparse import csr_matrix, coo_matrix\n",
        "\n",
        "# Детерминированные алгоритмы\n",
        "from implicit.nearest_neighbours import ItemItemRecommender, CosineRecommender, TFIDFRecommender, BM25Recommender\n",
        "\n",
        "# Метрики\n",
        "from implicit.evaluation import train_test_split\n",
        "from implicit.evaluation import precision_at_k, mean_average_precision_at_k, AUC_at_k, ndcg_at_k"
      ],
      "execution_count": 2,
      "outputs": []
    },
    {
      "cell_type": "code",
      "metadata": {
        "colab": {
          "base_uri": "https://localhost:8080/"
        },
        "id": "8dpVNcd7tKqE",
        "outputId": "88f87029-9693-4dd7-e8c2-a1b5755befb1"
      },
      "source": [
        "from google.colab import drive\n",
        "drive.mount('/content/hw2')"
      ],
      "execution_count": 1,
      "outputs": [
        {
          "output_type": "stream",
          "name": "stdout",
          "text": [
            "Mounted at /content/hw2\n"
          ]
        }
      ]
    },
    {
      "cell_type": "code",
      "metadata": {
        "colab": {
          "base_uri": "https://localhost:8080/",
          "height": 111
        },
        "id": "9qFkcgyrC8Yt",
        "outputId": "f2e18272-8517-4cf6-daa8-0e0f24aa21c7"
      },
      "source": [
        "data = pd.read_csv('hw2/MyDrive/data/retail_train.csv')\n",
        "data.head(2)"
      ],
      "execution_count": 4,
      "outputs": [
        {
          "output_type": "execute_result",
          "data": {
            "text/html": [
              "<div>\n",
              "<style scoped>\n",
              "    .dataframe tbody tr th:only-of-type {\n",
              "        vertical-align: middle;\n",
              "    }\n",
              "\n",
              "    .dataframe tbody tr th {\n",
              "        vertical-align: top;\n",
              "    }\n",
              "\n",
              "    .dataframe thead th {\n",
              "        text-align: right;\n",
              "    }\n",
              "</style>\n",
              "<table border=\"1\" class=\"dataframe\">\n",
              "  <thead>\n",
              "    <tr style=\"text-align: right;\">\n",
              "      <th></th>\n",
              "      <th>user_id</th>\n",
              "      <th>basket_id</th>\n",
              "      <th>day</th>\n",
              "      <th>item_id</th>\n",
              "      <th>quantity</th>\n",
              "      <th>sales_value</th>\n",
              "      <th>store_id</th>\n",
              "      <th>retail_disc</th>\n",
              "      <th>trans_time</th>\n",
              "      <th>week_no</th>\n",
              "      <th>coupon_disc</th>\n",
              "      <th>coupon_match_disc</th>\n",
              "    </tr>\n",
              "  </thead>\n",
              "  <tbody>\n",
              "    <tr>\n",
              "      <th>0</th>\n",
              "      <td>2375</td>\n",
              "      <td>26984851472</td>\n",
              "      <td>1</td>\n",
              "      <td>1004906</td>\n",
              "      <td>1</td>\n",
              "      <td>1.39</td>\n",
              "      <td>364</td>\n",
              "      <td>-0.6</td>\n",
              "      <td>1631</td>\n",
              "      <td>1</td>\n",
              "      <td>0.0</td>\n",
              "      <td>0.0</td>\n",
              "    </tr>\n",
              "    <tr>\n",
              "      <th>1</th>\n",
              "      <td>2375</td>\n",
              "      <td>26984851472</td>\n",
              "      <td>1</td>\n",
              "      <td>1033142</td>\n",
              "      <td>1</td>\n",
              "      <td>0.82</td>\n",
              "      <td>364</td>\n",
              "      <td>0.0</td>\n",
              "      <td>1631</td>\n",
              "      <td>1</td>\n",
              "      <td>0.0</td>\n",
              "      <td>0.0</td>\n",
              "    </tr>\n",
              "  </tbody>\n",
              "</table>\n",
              "</div>"
            ],
            "text/plain": [
              "   user_id    basket_id  day  ...  week_no  coupon_disc  coupon_match_disc\n",
              "0     2375  26984851472    1  ...        1          0.0                0.0\n",
              "1     2375  26984851472    1  ...        1          0.0                0.0\n",
              "\n",
              "[2 rows x 12 columns]"
            ]
          },
          "metadata": {},
          "execution_count": 4
        }
      ]
    },
    {
      "cell_type": "code",
      "metadata": {
        "colab": {
          "base_uri": "https://localhost:8080/"
        },
        "id": "BzFiQs2V0isQ",
        "outputId": "449c24c7-f565-40f3-a797-c14e33bc412b"
      },
      "source": [
        "data.info()"
      ],
      "execution_count": 5,
      "outputs": [
        {
          "output_type": "stream",
          "name": "stdout",
          "text": [
            "<class 'pandas.core.frame.DataFrame'>\n",
            "RangeIndex: 2396804 entries, 0 to 2396803\n",
            "Data columns (total 12 columns):\n",
            " #   Column             Dtype  \n",
            "---  ------             -----  \n",
            " 0   user_id            int64  \n",
            " 1   basket_id          int64  \n",
            " 2   day                int64  \n",
            " 3   item_id            int64  \n",
            " 4   quantity           int64  \n",
            " 5   sales_value        float64\n",
            " 6   store_id           int64  \n",
            " 7   retail_disc        float64\n",
            " 8   trans_time         int64  \n",
            " 9   week_no            int64  \n",
            " 10  coupon_disc        float64\n",
            " 11  coupon_match_disc  float64\n",
            "dtypes: float64(4), int64(8)\n",
            "memory usage: 219.4 MB\n"
          ]
        }
      ]
    },
    {
      "cell_type": "code",
      "metadata": {
        "colab": {
          "base_uri": "https://localhost:8080/",
          "height": 297
        },
        "id": "RaakFf4V1x85",
        "outputId": "45b4e240-0def-43a9-c395-0967f4327c42"
      },
      "source": [
        "data.describe()"
      ],
      "execution_count": 6,
      "outputs": [
        {
          "output_type": "execute_result",
          "data": {
            "text/html": [
              "<div>\n",
              "<style scoped>\n",
              "    .dataframe tbody tr th:only-of-type {\n",
              "        vertical-align: middle;\n",
              "    }\n",
              "\n",
              "    .dataframe tbody tr th {\n",
              "        vertical-align: top;\n",
              "    }\n",
              "\n",
              "    .dataframe thead th {\n",
              "        text-align: right;\n",
              "    }\n",
              "</style>\n",
              "<table border=\"1\" class=\"dataframe\">\n",
              "  <thead>\n",
              "    <tr style=\"text-align: right;\">\n",
              "      <th></th>\n",
              "      <th>user_id</th>\n",
              "      <th>basket_id</th>\n",
              "      <th>day</th>\n",
              "      <th>item_id</th>\n",
              "      <th>quantity</th>\n",
              "      <th>sales_value</th>\n",
              "      <th>store_id</th>\n",
              "      <th>retail_disc</th>\n",
              "      <th>trans_time</th>\n",
              "      <th>week_no</th>\n",
              "      <th>coupon_disc</th>\n",
              "      <th>coupon_match_disc</th>\n",
              "    </tr>\n",
              "  </thead>\n",
              "  <tbody>\n",
              "    <tr>\n",
              "      <th>count</th>\n",
              "      <td>2.396804e+06</td>\n",
              "      <td>2.396804e+06</td>\n",
              "      <td>2.396804e+06</td>\n",
              "      <td>2.396804e+06</td>\n",
              "      <td>2.396804e+06</td>\n",
              "      <td>2.396804e+06</td>\n",
              "      <td>2.396804e+06</td>\n",
              "      <td>2.396804e+06</td>\n",
              "      <td>2.396804e+06</td>\n",
              "      <td>2.396804e+06</td>\n",
              "      <td>2.396804e+06</td>\n",
              "      <td>2.396804e+06</td>\n",
              "    </tr>\n",
              "    <tr>\n",
              "      <th>mean</th>\n",
              "      <td>1.271904e+03</td>\n",
              "      <td>3.336643e+10</td>\n",
              "      <td>3.639770e+02</td>\n",
              "      <td>2.827247e+06</td>\n",
              "      <td>1.003763e+02</td>\n",
              "      <td>3.100821e+00</td>\n",
              "      <td>3.048227e+03</td>\n",
              "      <td>-5.400708e-01</td>\n",
              "      <td>1.561714e+03</td>\n",
              "      <td>5.268156e+01</td>\n",
              "      <td>-1.638696e-02</td>\n",
              "      <td>-2.897905e-03</td>\n",
              "    </tr>\n",
              "    <tr>\n",
              "      <th>std</th>\n",
              "      <td>7.265644e+02</td>\n",
              "      <td>4.284798e+09</td>\n",
              "      <td>1.759385e+02</td>\n",
              "      <td>3.732798e+06</td>\n",
              "      <td>1.152379e+03</td>\n",
              "      <td>4.210229e+00</td>\n",
              "      <td>8.785542e+03</td>\n",
              "      <td>1.245824e+00</td>\n",
              "      <td>4.015691e+02</td>\n",
              "      <td>2.513310e+01</td>\n",
              "      <td>2.168615e-01</td>\n",
              "      <td>3.974618e-02</td>\n",
              "    </tr>\n",
              "    <tr>\n",
              "      <th>min</th>\n",
              "      <td>1.000000e+00</td>\n",
              "      <td>2.698485e+10</td>\n",
              "      <td>1.000000e+00</td>\n",
              "      <td>2.567100e+04</td>\n",
              "      <td>0.000000e+00</td>\n",
              "      <td>0.000000e+00</td>\n",
              "      <td>1.000000e+00</td>\n",
              "      <td>-1.300200e+02</td>\n",
              "      <td>0.000000e+00</td>\n",
              "      <td>1.000000e+00</td>\n",
              "      <td>-5.593000e+01</td>\n",
              "      <td>-7.700000e+00</td>\n",
              "    </tr>\n",
              "    <tr>\n",
              "      <th>25%</th>\n",
              "      <td>6.550000e+02</td>\n",
              "      <td>3.008714e+10</td>\n",
              "      <td>2.160000e+02</td>\n",
              "      <td>9.169930e+05</td>\n",
              "      <td>1.000000e+00</td>\n",
              "      <td>1.290000e+00</td>\n",
              "      <td>3.300000e+02</td>\n",
              "      <td>-6.900000e-01</td>\n",
              "      <td>1.307000e+03</td>\n",
              "      <td>3.200000e+01</td>\n",
              "      <td>0.000000e+00</td>\n",
              "      <td>0.000000e+00</td>\n",
              "    </tr>\n",
              "    <tr>\n",
              "      <th>50%</th>\n",
              "      <td>1.271000e+03</td>\n",
              "      <td>3.241998e+10</td>\n",
              "      <td>3.660000e+02</td>\n",
              "      <td>1.027569e+06</td>\n",
              "      <td>1.000000e+00</td>\n",
              "      <td>2.000000e+00</td>\n",
              "      <td>3.700000e+02</td>\n",
              "      <td>-2.000000e-02</td>\n",
              "      <td>1.614000e+03</td>\n",
              "      <td>5.300000e+01</td>\n",
              "      <td>0.000000e+00</td>\n",
              "      <td>0.000000e+00</td>\n",
              "    </tr>\n",
              "    <tr>\n",
              "      <th>75%</th>\n",
              "      <td>1.914000e+03</td>\n",
              "      <td>3.514580e+10</td>\n",
              "      <td>5.150000e+02</td>\n",
              "      <td>1.132178e+06</td>\n",
              "      <td>1.000000e+00</td>\n",
              "      <td>3.490000e+00</td>\n",
              "      <td>4.220000e+02</td>\n",
              "      <td>0.000000e+00</td>\n",
              "      <td>1.844000e+03</td>\n",
              "      <td>7.400000e+01</td>\n",
              "      <td>0.000000e+00</td>\n",
              "      <td>0.000000e+00</td>\n",
              "    </tr>\n",
              "    <tr>\n",
              "      <th>max</th>\n",
              "      <td>2.500000e+03</td>\n",
              "      <td>4.165679e+10</td>\n",
              "      <td>6.630000e+02</td>\n",
              "      <td>1.802456e+07</td>\n",
              "      <td>8.963800e+04</td>\n",
              "      <td>8.400000e+02</td>\n",
              "      <td>3.428000e+04</td>\n",
              "      <td>3.990000e+00</td>\n",
              "      <td>2.359000e+03</td>\n",
              "      <td>9.500000e+01</td>\n",
              "      <td>0.000000e+00</td>\n",
              "      <td>0.000000e+00</td>\n",
              "    </tr>\n",
              "  </tbody>\n",
              "</table>\n",
              "</div>"
            ],
            "text/plain": [
              "            user_id     basket_id  ...   coupon_disc  coupon_match_disc\n",
              "count  2.396804e+06  2.396804e+06  ...  2.396804e+06       2.396804e+06\n",
              "mean   1.271904e+03  3.336643e+10  ... -1.638696e-02      -2.897905e-03\n",
              "std    7.265644e+02  4.284798e+09  ...  2.168615e-01       3.974618e-02\n",
              "min    1.000000e+00  2.698485e+10  ... -5.593000e+01      -7.700000e+00\n",
              "25%    6.550000e+02  3.008714e+10  ...  0.000000e+00       0.000000e+00\n",
              "50%    1.271000e+03  3.241998e+10  ...  0.000000e+00       0.000000e+00\n",
              "75%    1.914000e+03  3.514580e+10  ...  0.000000e+00       0.000000e+00\n",
              "max    2.500000e+03  4.165679e+10  ...  0.000000e+00       0.000000e+00\n",
              "\n",
              "[8 rows x 12 columns]"
            ]
          },
          "metadata": {},
          "execution_count": 6
        }
      ]
    },
    {
      "cell_type": "code",
      "metadata": {
        "id": "epcBZlgJC8Y0"
      },
      "source": [
        "test_size_weeks = 3\n",
        "\n",
        "data_train = data[data['week_no'] < data['week_no'].max() - test_size_weeks]\n",
        "data_test = data[data['week_no'] >= data['week_no'].max() - test_size_weeks]"
      ],
      "execution_count": 7,
      "outputs": []
    },
    {
      "cell_type": "markdown",
      "metadata": {
        "id": "zlUUzLFeC8Y4"
      },
      "source": [
        "### Задание 1. Weighted Random Recommendation\n",
        "\n",
        "Напишите код для случайных рекоммендаций, в которых вероятность рекомендовать товар прямо пропорциональна логарифму продаж\n",
        "- Можно сэмплировать товары случайно, но пропорционально какому-либо весу\n",
        "- Например, прямопропорционально популярности. Вес = log(sales_sum товара)"
      ]
    },
    {
      "cell_type": "code",
      "metadata": {
        "id": "brMuCHolC8Y4"
      },
      "source": [
        "def weighted_random_recommendation(items_weights, n=5):\n",
        "    \"\"\"Случайные рекоммендации\n",
        "    \n",
        "    Input\n",
        "    -----\n",
        "    items_weights: pd.DataFrame\n",
        "        Датафрейм со столбцами item_id, weight. Сумма weight по всем товарам = 1\n",
        "    \"\"\"\n",
        "    \n",
        "    items = np.array(items_weights)\n",
        "    recs = np.random.choice(items_weights.index, size=n, replace=False, p=items_weights['weight'])\n",
        "\n",
        "    # Подсказка: необходимо модифицировать функцию random_recommendation()\n",
        "    # your_code\n",
        "    \n",
        "    return recs.tolist()"
      ],
      "execution_count": 43,
      "outputs": []
    },
    {
      "cell_type": "code",
      "metadata": {
        "colab": {
          "base_uri": "https://localhost:8080/"
        },
        "id": "nK_AS3tmC8Y7",
        "outputId": "a941357d-8b9f-4388-f124-f9e183a556b1"
      },
      "source": [
        "%%time\n",
        "items = data.groupby(by = \"item_id\").agg(sales=('sales_value', 'sum'))\n",
        "\n",
        "##\n",
        "# Проблема: по некоторым товарным позициям продажи равны нулю. Поэтому явно прологорифмировать нельзя\n",
        "# поэтому сместим на константу, больше единицы (для того, что бы логарифи не был равен нулю)\n",
        "items['sales'] = items.sales+1.5\n",
        "items['weight'] = np.log(items.sales)\n",
        "##\n",
        "# Веса должны быть в долях 1 и давать в сумме 1 (по дкументации на np.random.choice)\n",
        "# Поэтому необходимо нормировать веса\n",
        "items['weight'] = items.weight.divide(items.weight.sum())\n",
        "\n",
        "print('sum=', items.weight.sum())\n",
        "print(items.describe())\n",
        "items.drop('sales', inplace=True, axis=1)\n"
      ],
      "execution_count": 47,
      "outputs": [
        {
          "output_type": "stream",
          "name": "stdout",
          "text": [
            "sum= 1.0\n",
            "               sales        weight\n",
            "count   89051.000000  89051.000000\n",
            "mean       84.958481      0.000011\n",
            "std      1628.715079      0.000006\n",
            "min         1.500000      0.000002\n",
            "25%         5.000000      0.000006\n",
            "50%        12.280000      0.000010\n",
            "75%        47.605000      0.000015\n",
            "max    467995.120000      0.000051\n",
            "CPU times: user 123 ms, sys: 2.59 ms, total: 125 ms\n",
            "Wall time: 131 ms\n"
          ]
        }
      ]
    },
    {
      "cell_type": "code",
      "metadata": {
        "colab": {
          "base_uri": "https://localhost:8080/",
          "height": 111
        },
        "id": "RqlEMbpKqsJE",
        "outputId": "b2305e16-1b44-4359-d018-991d29a876ef"
      },
      "source": [
        "result = data_test.groupby('user_id')['item_id'].unique().reset_index()\n",
        "result.columns=['user_id', 'actual']\n",
        "\n",
        "result['random_recommendation'] = result['user_id'].apply(lambda x: weighted_random_recommendation(items, n=5))\n",
        "result.head(2)"
      ],
      "execution_count": 46,
      "outputs": [
        {
          "output_type": "execute_result",
          "data": {
            "text/html": [
              "<div>\n",
              "<style scoped>\n",
              "    .dataframe tbody tr th:only-of-type {\n",
              "        vertical-align: middle;\n",
              "    }\n",
              "\n",
              "    .dataframe tbody tr th {\n",
              "        vertical-align: top;\n",
              "    }\n",
              "\n",
              "    .dataframe thead th {\n",
              "        text-align: right;\n",
              "    }\n",
              "</style>\n",
              "<table border=\"1\" class=\"dataframe\">\n",
              "  <thead>\n",
              "    <tr style=\"text-align: right;\">\n",
              "      <th></th>\n",
              "      <th>user_id</th>\n",
              "      <th>actual</th>\n",
              "      <th>random_recommendation</th>\n",
              "    </tr>\n",
              "  </thead>\n",
              "  <tbody>\n",
              "    <tr>\n",
              "      <th>0</th>\n",
              "      <td>1</td>\n",
              "      <td>[821867, 834484, 856942, 865456, 889248, 90795...</td>\n",
              "      <td>[908909, 976996, 48575, 1062095, 932828]</td>\n",
              "    </tr>\n",
              "    <tr>\n",
              "      <th>1</th>\n",
              "      <td>3</td>\n",
              "      <td>[835476, 851057, 872021, 878302, 879948, 90963...</td>\n",
              "      <td>[16733532, 980120, 894103, 870631, 1024508]</td>\n",
              "    </tr>\n",
              "  </tbody>\n",
              "</table>\n",
              "</div>"
            ],
            "text/plain": [
              "   user_id  ...                        random_recommendation\n",
              "0        1  ...     [908909, 976996, 48575, 1062095, 932828]\n",
              "1        3  ...  [16733532, 980120, 894103, 870631, 1024508]\n",
              "\n",
              "[2 rows x 3 columns]"
            ]
          },
          "metadata": {},
          "execution_count": 46
        }
      ]
    },
    {
      "cell_type": "markdown",
      "metadata": {
        "id": "hyNG6O-wC8Y_"
      },
      "source": [
        "### Задание 2. Расчет метрик\n",
        "Рассчитайте Precision@5 для каждого алгоритма с помощью функции из вебинара 1. Какой алгоритм показывает лучшее качество?"
      ]
    },
    {
      "cell_type": "code",
      "metadata": {
        "colab": {
          "base_uri": "https://localhost:8080/"
        },
        "id": "36HtRgm8C8ZA",
        "outputId": "4901e1ac-c8be-4832-d1ce-5600966fcd6f"
      },
      "source": [
        "import pandas as pd\n",
        "\n",
        "result = pd.read_csv('hw2/MyDrive/data/predictions_basic.csv', quotechar='\"')\n",
        "type(result.actual[0])"
      ],
      "execution_count": 7,
      "outputs": [
        {
          "output_type": "execute_result",
          "data": {
            "text/plain": [
              "str"
            ]
          },
          "metadata": {},
          "execution_count": 7
        }
      ]
    },
    {
      "cell_type": "markdown",
      "metadata": {
        "id": "y2OAzrXMnmmd"
      },
      "source": [
        "поскольку я так и не разобрался как правильно считать файл (считывается без ошибок, но все значения строки), я написал конвертор "
      ]
    },
    {
      "cell_type": "code",
      "metadata": {
        "id": "t3Gorrjmn0gb"
      },
      "source": [
        "import re\n",
        "\n",
        "for column in result.columns:\n",
        "    if column == 'user_id':\n",
        "        continue\n",
        "    col = []\n",
        "    for row in result[column]:\n",
        "        row = re.sub('[\\[\\]]', '', row)\n",
        "        if column == 'actual':\n",
        "            sep = ' '\n",
        "        else:\n",
        "            sep = ','\n",
        "\n",
        "        out = []\n",
        "        for s in row.split(sep):\n",
        "          s = s.strip()\n",
        "          if (len(s) > 0):\n",
        "              out.append(int(s))\n",
        "        if (len(out) > 0):\n",
        "            col.append(out)\n",
        "    result[column] = col"
      ],
      "execution_count": 8,
      "outputs": []
    },
    {
      "cell_type": "code",
      "metadata": {
        "id": "_0cu0VeTC8ZD"
      },
      "source": [
        "# your_code\n",
        "def precision_at_k(recommended_list, bought_list, k=5):\n",
        "\n",
        "    recommended_list = recommended_list[:k] \n",
        "    flags = np.isin(bought_list, recommended_list)\n",
        "    precision = flags.sum() / len(recommended_list)\n",
        "        \n",
        "    return precision"
      ],
      "execution_count": 14,
      "outputs": []
    },
    {
      "cell_type": "code",
      "metadata": {
        "id": "l9pYV6YIo6jo"
      },
      "source": [
        "import numpy as np"
      ],
      "execution_count": 11,
      "outputs": []
    },
    {
      "cell_type": "code",
      "metadata": {
        "colab": {
          "base_uri": "https://localhost:8080/"
        },
        "id": "cFl1IYuQug3T",
        "outputId": "3f90b743-ba2e-42cb-edd5-06dfa91c117a"
      },
      "source": [
        "p5k = result.apply(lambda row: precision_at_k(row.random_recommendation, row.actual), axis=1)\n",
        "print('random_recommendation', 100*np.average(p5k))\n",
        "#\n",
        "p5k = result.apply(lambda row: precision_at_k(row.popular_recommendation, row.actual), axis=1)\n",
        "print('popular_recommendation', 100*np.average(p5k))\n",
        "\n",
        "p5k = result.apply(lambda row: precision_at_k(row.itemitem, row.actual), axis=1)\n",
        "print('itemitem', 100*np.average(p5k))\n",
        "\n",
        "p5k = result.apply(lambda row: precision_at_k(row.cosine, row.actual), axis=1)\n",
        "print('cosine', 100*np.average(p5k))\n",
        "\n",
        "p5k = result.apply(lambda row: precision_at_k(row.tfidf, row.actual), axis=1)\n",
        "print('tfidf', 100*np.average(p5k))\n",
        "\n",
        "p5k = result.apply(lambda row: precision_at_k(row.own_purchases, row.actual), axis=1)\n",
        "print('own_purchases', 100*np.average(p5k))"
      ],
      "execution_count": 15,
      "outputs": [
        {
          "output_type": "stream",
          "name": "stdout",
          "text": [
            "random_recommendation 0.029382957884427036\n",
            "popular_recommendation 15.523996082272282\n",
            "itemitem 13.692458374143\n",
            "cosine 13.290891283055831\n",
            "tfidf 13.898139079333987\n",
            "own_purchases 17.969311132876264\n"
          ]
        }
      ]
    },
    {
      "cell_type": "markdown",
      "metadata": {
        "id": "3NGS6X7qpNgj"
      },
      "source": [
        "Лучшим алгоритмом по метрике presision@5 является own_purchases (1 ближайший сосед)"
      ]
    },
    {
      "cell_type": "markdown",
      "metadata": {
        "id": "igDU0j1cC8ZH"
      },
      "source": [
        "### Задание 3*. Улучшение бейзлайнов и ItemItem\n",
        "\n",
        "- Попробуйте улучшить бейзлайны, считая их на топ-5000 товаров\n",
        "- Попробуйте улучшить разные варианты ItemItemRecommender, выбирая число соседей $K$."
      ]
    },
    {
      "cell_type": "code",
      "metadata": {
        "id": "zYBR3cMPC8ZH"
      },
      "source": [
        "# your_code"
      ],
      "execution_count": null,
      "outputs": []
    }
  ]
}